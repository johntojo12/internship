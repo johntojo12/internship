{
 "cells": [
  {
   "cell_type": "code",
   "execution_count": 1,
   "id": "4af4c436",
   "metadata": {},
   "outputs": [
    {
     "name": "stdout",
     "output_type": "stream",
     "text": [
      "Enter the number2\n",
      "Factorial of 2 is 2\n"
     ]
    }
   ],
   "source": [
    "#q11 Write a python program to find the factorial of a number\n",
    "import math\n",
    "def factorial(n):\n",
    "    return(math.factorial(n))\n",
    "n=int(input(\"Enter the number\"))\n",
    "print (\"Factorial of\",n,\"is\",factorial(n))"
   ]
  },
  {
   "cell_type": "code",
   "execution_count": 2,
   "id": "7f65b3f7",
   "metadata": {},
   "outputs": [
    {
     "name": "stdout",
     "output_type": "stream",
     "text": [
      "Enter the number 3\n",
      "3 is prime.\n"
     ]
    }
   ],
   "source": [
    "#q12 Write a python program to find whether a number is prime or composite\n",
    "x = int(input('Enter the number ')) \n",
    "prime = True #initial set \n",
    " \n",
    "for i in range(2,x): \n",
    "        if x % i == 0: \n",
    "                prime = False \n",
    "                break \n",
    "if prime: \n",
    "        print(str(x) + ' is prime.') \n",
    "else: \n",
    "        print(str(x) + ' is not prime') "
   ]
  },
  {
   "cell_type": "code",
   "execution_count": 3,
   "id": "8b1e55b1",
   "metadata": {},
   "outputs": [
    {
     "name": "stdout",
     "output_type": "stream",
     "text": [
      "Enter the stringabc\n",
      "given string abc is not palindrome\n"
     ]
    }
   ],
   "source": [
    "#q13 write a python program to check whether a given string is palindrome or not\n",
    "\n",
    "a=input(\"Enter the string\")\n",
    "a=a.casefold()\n",
    "b=reversed(a)\n",
    "if list(a)==list(b):\n",
    "    print(\"given string\", a ,\"is palindrome\")\n",
    "else:\n",
    "    print(\"given string\", a ,\"is not palindrome\")"
   ]
  },
  {
   "cell_type": "code",
   "execution_count": 5,
   "id": "5efe02db",
   "metadata": {},
   "outputs": [
    {
     "name": "stdout",
     "output_type": "stream",
     "text": [
      "Enter 1 to find Hypotenuse  2 to find unknown side 2\n",
      "Enter side 4\n",
      "Enter hypotenuse  5\n",
      "side = 3.0\n"
     ]
    }
   ],
   "source": [
    "#q14 Write a Python program to get the third side of right-angled triangle from two given sides\n",
    "import numpy as np\n",
    "\n",
    "d=int(input(\"Enter 1 to find Hypotenuse  2 to find unknown side \"))\n",
    "\n",
    "if d==1:\n",
    "    a = float(input(\"Enter base \"))\n",
    "    b = float(input(\"Enter height \"))\n",
    "    c = np.sqrt(a ** 2 + b ** 2)\n",
    "    print(\"Hypotenuse =\", c)\n",
    "else:\n",
    "    a = float(input(\"Enter side \"))\n",
    "    b = float(input(\"Enter hypotenuse  \"))\n",
    "    c = np.sqrt(b ** 2 - a ** 2)\n",
    "    print(\"side =\", c)\n",
    "    "
   ]
  },
  {
   "cell_type": "code",
   "execution_count": 9,
   "id": "239f7bed",
   "metadata": {},
   "outputs": [
    {
     "name": "stdout",
     "output_type": "stream",
     "text": [
      "Enter the stringmalayalam\n",
      "Count of all characters in GeeksforGeeks is :\n",
      " {'m': 2, 'a': 4, 'l': 2, 'y': 1}\n"
     ]
    }
   ],
   "source": [
    "#q15 Write a python program to print the frequency of each of the characters present in a given string\n",
    "\n",
    "test_str = input(\"Enter the string\")\n",
    "all_freq = {}\n",
    "  \n",
    "for i in test_str:\n",
    "    if i in all_freq:\n",
    "        all_freq[i] += 1\n",
    "    else:\n",
    "        all_freq[i] = 1\n",
    "print (\"Count of all characters in GeeksforGeeks is :\\n \"+  str(all_freq))        "
   ]
  },
  {
   "cell_type": "code",
   "execution_count": null,
   "id": "f060ad98",
   "metadata": {},
   "outputs": [],
   "source": []
  }
 ],
 "metadata": {
  "kernelspec": {
   "display_name": "Python 3 (ipykernel)",
   "language": "python",
   "name": "python3"
  },
  "language_info": {
   "codemirror_mode": {
    "name": "ipython",
    "version": 3
   },
   "file_extension": ".py",
   "mimetype": "text/x-python",
   "name": "python",
   "nbconvert_exporter": "python",
   "pygments_lexer": "ipython3",
   "version": "3.9.7"
  }
 },
 "nbformat": 4,
 "nbformat_minor": 5
}
