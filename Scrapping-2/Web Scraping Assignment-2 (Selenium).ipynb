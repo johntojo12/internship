{
 "cells": [
  {
   "cell_type": "code",
   "execution_count": 1,
   "id": "fd03e3e1",
   "metadata": {},
   "outputs": [
    {
     "name": "stdout",
     "output_type": "stream",
     "text": [
      "Collecting selenium\n",
      "  Downloading selenium-4.4.3-py3-none-any.whl (985 kB)\n",
      "Requirement already satisfied: certifi>=2021.10.8 in c:\\anaconda\\lib\\site-packages (from selenium) (2021.10.8)\n",
      "Collecting trio~=0.17\n",
      "  Downloading trio-0.21.0-py3-none-any.whl (358 kB)\n",
      "Collecting trio-websocket~=0.9\n",
      "  Downloading trio_websocket-0.9.2-py3-none-any.whl (16 kB)\n",
      "Requirement already satisfied: urllib3[socks]~=1.26 in c:\\anaconda\\lib\\site-packages (from selenium) (1.26.7)\n",
      "Requirement already satisfied: sniffio in c:\\anaconda\\lib\\site-packages (from trio~=0.17->selenium) (1.2.0)\n",
      "Requirement already satisfied: cffi>=1.14 in c:\\anaconda\\lib\\site-packages (from trio~=0.17->selenium) (1.14.6)\n",
      "Requirement already satisfied: attrs>=19.2.0 in c:\\anaconda\\lib\\site-packages (from trio~=0.17->selenium) (21.2.0)\n",
      "Requirement already satisfied: idna in c:\\anaconda\\lib\\site-packages (from trio~=0.17->selenium) (3.2)\n",
      "Requirement already satisfied: sortedcontainers in c:\\anaconda\\lib\\site-packages (from trio~=0.17->selenium) (2.4.0)\n",
      "Collecting outcome\n",
      "  Downloading outcome-1.2.0-py2.py3-none-any.whl (9.7 kB)\n",
      "Requirement already satisfied: async-generator>=1.9 in c:\\anaconda\\lib\\site-packages (from trio~=0.17->selenium) (1.10)\n",
      "Requirement already satisfied: pycparser in c:\\anaconda\\lib\\site-packages (from cffi>=1.14->trio~=0.17->selenium) (2.20)\n",
      "Collecting wsproto>=0.14\n",
      "  Downloading wsproto-1.2.0-py3-none-any.whl (24 kB)\n",
      "Requirement already satisfied: PySocks!=1.5.7,<2.0,>=1.5.6 in c:\\anaconda\\lib\\site-packages (from urllib3[socks]~=1.26->selenium) (1.7.1)\n",
      "Collecting h11<1,>=0.9.0\n",
      "  Downloading h11-0.13.0-py3-none-any.whl (58 kB)\n",
      "Installing collected packages: outcome, h11, wsproto, trio, trio-websocket, selenium\n",
      "Successfully installed h11-0.13.0 outcome-1.2.0 selenium-4.4.3 trio-0.21.0 trio-websocket-0.9.2 wsproto-1.2.0\n"
     ]
    }
   ],
   "source": [
    "!pip install selenium"
   ]
  },
  {
   "cell_type": "code",
   "execution_count": 1,
   "id": "82479674",
   "metadata": {},
   "outputs": [],
   "source": [
    "import selenium\n",
    "import pandas as pd\n",
    "from selenium import webdriver\n",
    "from selenium.webdriver.common.by import By\n",
    "from selenium.common.exceptions import StaleElementReferenceException, NoSuchElementException\n",
    "import time\n",
    "import warnings\n",
    "warnings.filterwarnings('ignore')\n"
   ]
  },
  {
   "cell_type": "markdown",
   "id": "6b0d259c",
   "metadata": {},
   "source": [
    "#### Q1"
   ]
  },
  {
   "cell_type": "code",
   "execution_count": 2,
   "id": "5b23e65a",
   "metadata": {},
   "outputs": [],
   "source": [
    "#connecting to driver\n",
    "driver=webdriver.Chrome(r\"C:\\Users\\JOHN TOJO\\Downloads\\chromedriver_win32\\chromedriver.exe\")"
   ]
  },
  {
   "cell_type": "code",
   "execution_count": 3,
   "id": "edf8e108",
   "metadata": {},
   "outputs": [],
   "source": [
    "#connecting to webpage\n",
    "driver.get('https://www.naukri.com/')"
   ]
  },
  {
   "cell_type": "code",
   "execution_count": 4,
   "id": "e042543b",
   "metadata": {},
   "outputs": [],
   "source": [
    "#entering the designation as required in the given problem\n",
    "designation=driver.find_element(By.XPATH,'/html/body/div[1]/div[6]/div/div/div[1]/div/div/div/input')\n",
    "designation.click()\n",
    "designation.send_keys('Data Analyst')"
   ]
  },
  {
   "cell_type": "code",
   "execution_count": 5,
   "id": "fde7bfa6",
   "metadata": {},
   "outputs": [],
   "source": [
    "#entering the location as required in the given problem\n",
    "location=driver.find_element(By.XPATH,'/html/body/div[1]/div[6]/div/div/div[5]/div/div/div/input')\n",
    "location.click()\n",
    "location.send_keys('Bangalore')"
   ]
  },
  {
   "cell_type": "code",
   "execution_count": 6,
   "id": "a15514e0",
   "metadata": {},
   "outputs": [],
   "source": [
    "#need to click on submit button to proceed to the filtered page \n",
    "search=driver.find_element(By.XPATH,'/html/body/div[1]/div[6]/div/div/div[6]')\n",
    "search.click()"
   ]
  },
  {
   "cell_type": "code",
   "execution_count": 7,
   "id": "78839429",
   "metadata": {},
   "outputs": [],
   "source": [
    "#initializing empty list to store the data necessary\n",
    "title=[]         #stores Job Title\n",
    "loc=[]           #stores Job Location \n",
    "company_name=[]  #stores Company Name\n",
    "exp=[]           #stores Experience Required   "
   ]
  },
  {
   "cell_type": "code",
   "execution_count": 8,
   "id": "dd95a26b",
   "metadata": {},
   "outputs": [],
   "source": [
    "#scrapping the required details in the given problem, here only 10 data are needed hence in the loop [0:10] is used \n",
    "\n",
    "title_tag=driver.find_elements(By.XPATH,'//a[@class=\"title fw500 ellipsis\"]')\n",
    "for i in title_tag[0:10]:\n",
    "    title.append(i.text)\n",
    "\n",
    "loc_tag=driver.find_elements(By.XPATH,'//li[@class=\"fleft grey-text br2 placeHolderLi location\"]')\n",
    "for i in loc_tag[0:10]:\n",
    "    loc.append(i.text)    \n",
    "\n",
    "company_name_tag=driver.find_elements(By.XPATH,'//a[@class=\"subTitle ellipsis fleft\"]')\n",
    "for i in company_name_tag[0:10]:\n",
    "    company_name.append(i.text)\n",
    "    \n",
    "exp_tag=driver.find_elements(By.XPATH,'//li[@class=\"fleft grey-text br2 placeHolderLi experience\"]')\n",
    "for i in exp_tag[0:10]:\n",
    "    exp.append(i.text)    "
   ]
  },
  {
   "cell_type": "code",
   "execution_count": 9,
   "id": "3ed6568b",
   "metadata": {},
   "outputs": [
    {
     "name": "stdout",
     "output_type": "stream",
     "text": [
      "10 10 10 10\n"
     ]
    }
   ],
   "source": [
    "#confirmation of the length of each variable\n",
    "print(len(title),len(loc),len(company_name),len(exp))"
   ]
  },
  {
   "cell_type": "code",
   "execution_count": 10,
   "id": "932a3255",
   "metadata": {},
   "outputs": [
    {
     "data": {
      "text/html": [
       "<div>\n",
       "<style scoped>\n",
       "    .dataframe tbody tr th:only-of-type {\n",
       "        vertical-align: middle;\n",
       "    }\n",
       "\n",
       "    .dataframe tbody tr th {\n",
       "        vertical-align: top;\n",
       "    }\n",
       "\n",
       "    .dataframe thead th {\n",
       "        text-align: right;\n",
       "    }\n",
       "</style>\n",
       "<table border=\"1\" class=\"dataframe\">\n",
       "  <thead>\n",
       "    <tr style=\"text-align: right;\">\n",
       "      <th></th>\n",
       "      <th>Job Title</th>\n",
       "      <th>Job Location</th>\n",
       "      <th>Company Name</th>\n",
       "      <th>Experience Required</th>\n",
       "    </tr>\n",
       "  </thead>\n",
       "  <tbody>\n",
       "    <tr>\n",
       "      <th>0</th>\n",
       "      <td>Contractual Hiring For Top MNC || Business Dat...</td>\n",
       "      <td>Bangalore/Bengaluru</td>\n",
       "      <td>TeamLease</td>\n",
       "      <td>5-8 Yrs</td>\n",
       "    </tr>\n",
       "    <tr>\n",
       "      <th>1</th>\n",
       "      <td>Customer Data Analyst</td>\n",
       "      <td>Bangalore/Bengaluru</td>\n",
       "      <td>Oracle</td>\n",
       "      <td>1-3 Yrs</td>\n",
       "    </tr>\n",
       "    <tr>\n",
       "      <th>2</th>\n",
       "      <td>Data Analyst - Decision Science</td>\n",
       "      <td>Bangalore/Bengaluru</td>\n",
       "      <td>Jana Small Finance Bank</td>\n",
       "      <td>3-8 Yrs</td>\n",
       "    </tr>\n",
       "    <tr>\n",
       "      <th>3</th>\n",
       "      <td>Immediate opening For Data Analyst @ Bangalore</td>\n",
       "      <td>Bangalore/Bengaluru</td>\n",
       "      <td>TeamLease</td>\n",
       "      <td>4-6 Yrs</td>\n",
       "    </tr>\n",
       "    <tr>\n",
       "      <th>4</th>\n",
       "      <td>Associate Data Analyst</td>\n",
       "      <td>Bangalore/Bengaluru</td>\n",
       "      <td>Optum</td>\n",
       "      <td>2-7 Yrs</td>\n",
       "    </tr>\n",
       "    <tr>\n",
       "      <th>5</th>\n",
       "      <td>Associate Data Analyst</td>\n",
       "      <td>Bangalore/Bengaluru</td>\n",
       "      <td>Optum</td>\n",
       "      <td>1-4 Yrs</td>\n",
       "    </tr>\n",
       "    <tr>\n",
       "      <th>6</th>\n",
       "      <td>Senior Data Analyst</td>\n",
       "      <td>Bangalore/Bengaluru(Domlur)</td>\n",
       "      <td>KrazyBee</td>\n",
       "      <td>3-5 Yrs</td>\n",
       "    </tr>\n",
       "    <tr>\n",
       "      <th>7</th>\n",
       "      <td>Data Analyst</td>\n",
       "      <td>Bangalore/Bengaluru</td>\n",
       "      <td>Vola Finance</td>\n",
       "      <td>3-7 Yrs</td>\n",
       "    </tr>\n",
       "    <tr>\n",
       "      <th>8</th>\n",
       "      <td>Women on career break_ Data Analyst</td>\n",
       "      <td>Bangalore/Bengaluru, Hyderabad/Secunderabad</td>\n",
       "      <td>Zinnov Management C</td>\n",
       "      <td>5-10 Yrs</td>\n",
       "    </tr>\n",
       "    <tr>\n",
       "      <th>9</th>\n",
       "      <td>BYJU'S DBEL : Sr Data Analyst</td>\n",
       "      <td>Bangalore/Bengaluru</td>\n",
       "      <td>BYJUS</td>\n",
       "      <td>3-7 Yrs</td>\n",
       "    </tr>\n",
       "  </tbody>\n",
       "</table>\n",
       "</div>"
      ],
      "text/plain": [
       "                                           Job Title  \\\n",
       "0  Contractual Hiring For Top MNC || Business Dat...   \n",
       "1                              Customer Data Analyst   \n",
       "2                    Data Analyst - Decision Science   \n",
       "3     Immediate opening For Data Analyst @ Bangalore   \n",
       "4                             Associate Data Analyst   \n",
       "5                             Associate Data Analyst   \n",
       "6                                Senior Data Analyst   \n",
       "7                                       Data Analyst   \n",
       "8                Women on career break_ Data Analyst   \n",
       "9                      BYJU'S DBEL : Sr Data Analyst   \n",
       "\n",
       "                                  Job Location             Company Name  \\\n",
       "0                          Bangalore/Bengaluru                TeamLease   \n",
       "1                          Bangalore/Bengaluru                   Oracle   \n",
       "2                          Bangalore/Bengaluru  Jana Small Finance Bank   \n",
       "3                          Bangalore/Bengaluru                TeamLease   \n",
       "4                          Bangalore/Bengaluru                    Optum   \n",
       "5                          Bangalore/Bengaluru                    Optum   \n",
       "6                  Bangalore/Bengaluru(Domlur)                 KrazyBee   \n",
       "7                          Bangalore/Bengaluru             Vola Finance   \n",
       "8  Bangalore/Bengaluru, Hyderabad/Secunderabad      Zinnov Management C   \n",
       "9                          Bangalore/Bengaluru                    BYJUS   \n",
       "\n",
       "  Experience Required  \n",
       "0             5-8 Yrs  \n",
       "1             1-3 Yrs  \n",
       "2             3-8 Yrs  \n",
       "3             4-6 Yrs  \n",
       "4             2-7 Yrs  \n",
       "5             1-4 Yrs  \n",
       "6             3-5 Yrs  \n",
       "7             3-7 Yrs  \n",
       "8            5-10 Yrs  \n",
       "9             3-7 Yrs  "
      ]
     },
     "execution_count": 10,
     "metadata": {},
     "output_type": "execute_result"
    }
   ],
   "source": [
    "#storing in a data frame\n",
    "df=pd.DataFrame({'Job Title':title,'Job Location':loc,'Company Name':company_name,'Experience Required':exp})\n",
    "df"
   ]
  },
  {
   "cell_type": "markdown",
   "id": "1076b657",
   "metadata": {},
   "source": [
    "#### Q2"
   ]
  },
  {
   "cell_type": "code",
   "execution_count": 11,
   "id": "e9c7a564",
   "metadata": {},
   "outputs": [],
   "source": [
    "#connecting to driver\n",
    "driver=webdriver.Chrome(r\"C:\\Users\\JOHN TOJO\\Downloads\\chromedriver_win32\\chromedriver.exe\")"
   ]
  },
  {
   "cell_type": "code",
   "execution_count": 12,
   "id": "c543adf0",
   "metadata": {},
   "outputs": [],
   "source": [
    "#connecting to webpage\n",
    "driver.get('https://www.naukri.com/')"
   ]
  },
  {
   "cell_type": "code",
   "execution_count": 13,
   "id": "592e3041",
   "metadata": {},
   "outputs": [],
   "source": [
    "#entering the designation as required in the given problem\n",
    "designation=driver.find_element(By.XPATH,'/html/body/div[1]/div[6]/div/div/div[1]/div/div/div/input')\n",
    "designation.click()\n",
    "designation.send_keys('Data Scientist')"
   ]
  },
  {
   "cell_type": "code",
   "execution_count": 14,
   "id": "d6756831",
   "metadata": {},
   "outputs": [],
   "source": [
    "#entering the location as required in the given problem\n",
    "location=driver.find_element(By.XPATH,'/html/body/div[1]/div[6]/div/div/div[5]/div/div/div/input')\n",
    "location.click()\n",
    "location.send_keys('Bangalore')"
   ]
  },
  {
   "cell_type": "code",
   "execution_count": 15,
   "id": "764d092b",
   "metadata": {},
   "outputs": [],
   "source": [
    "#need to click on submit button to proceed to the filtered page \n",
    "search=driver.find_element(By.XPATH,'/html/body/div[1]/div[6]/div/div/div[6]')\n",
    "search.click()"
   ]
  },
  {
   "cell_type": "code",
   "execution_count": 16,
   "id": "7f649f38",
   "metadata": {},
   "outputs": [],
   "source": [
    "#initializing empty list to store the data necessary\n",
    "title=[]         #stores Job Title\n",
    "loc=[]           #stores Job Location \n",
    "company_name=[]  #stores Company Name"
   ]
  },
  {
   "cell_type": "code",
   "execution_count": 17,
   "id": "f2d8d2c6",
   "metadata": {},
   "outputs": [],
   "source": [
    "#scrapping the required details in the given problem, here only 10 data are needed hence in the loop [0:10] is used \n",
    "\n",
    "title_tag=driver.find_elements(By.XPATH,'//a[@class=\"title fw500 ellipsis\"]')\n",
    "for i in title_tag[0:10]:\n",
    "    title.append(i.text)\n",
    "\n",
    "loc_tag=driver.find_elements(By.XPATH,'//li[@class=\"fleft grey-text br2 placeHolderLi location\"]')\n",
    "for i in loc_tag[0:10]:\n",
    "    loc.append(i.text)    \n",
    "\n",
    "company_name_tag=driver.find_elements(By.XPATH,'//a[@class=\"subTitle ellipsis fleft\"]')\n",
    "for i in company_name_tag[0:10]:\n",
    "    company_name.append(i.text)"
   ]
  },
  {
   "cell_type": "code",
   "execution_count": 18,
   "id": "fcba20ce",
   "metadata": {},
   "outputs": [
    {
     "name": "stdout",
     "output_type": "stream",
     "text": [
      "10 10 10\n"
     ]
    }
   ],
   "source": [
    "#confirmation of the length of each variable\n",
    "print(len(title),len(loc),len(company_name))"
   ]
  },
  {
   "cell_type": "code",
   "execution_count": 19,
   "id": "dd0449ed",
   "metadata": {},
   "outputs": [
    {
     "data": {
      "text/html": [
       "<div>\n",
       "<style scoped>\n",
       "    .dataframe tbody tr th:only-of-type {\n",
       "        vertical-align: middle;\n",
       "    }\n",
       "\n",
       "    .dataframe tbody tr th {\n",
       "        vertical-align: top;\n",
       "    }\n",
       "\n",
       "    .dataframe thead th {\n",
       "        text-align: right;\n",
       "    }\n",
       "</style>\n",
       "<table border=\"1\" class=\"dataframe\">\n",
       "  <thead>\n",
       "    <tr style=\"text-align: right;\">\n",
       "      <th></th>\n",
       "      <th>Job Title</th>\n",
       "      <th>Job Location</th>\n",
       "      <th>Company Name</th>\n",
       "    </tr>\n",
       "  </thead>\n",
       "  <tbody>\n",
       "    <tr>\n",
       "      <th>0</th>\n",
       "      <td>Job Opportunity on Data Science_ Python with T...</td>\n",
       "      <td>Bangalore/Bengaluru, Kolkata, Hyderabad/Secund...</td>\n",
       "      <td>Tech Mahindra</td>\n",
       "    </tr>\n",
       "    <tr>\n",
       "      <th>1</th>\n",
       "      <td>Assistant Manager - Data Science</td>\n",
       "      <td>Bangalore/Bengaluru, Mumbai, Pune</td>\n",
       "      <td>CitiusTech</td>\n",
       "    </tr>\n",
       "    <tr>\n",
       "      <th>2</th>\n",
       "      <td>Analystics &amp; Modeling Specialist</td>\n",
       "      <td>Bangalore/Bengaluru, Kolkata, Mumbai, Hyderaba...</td>\n",
       "      <td>Accenture</td>\n",
       "    </tr>\n",
       "    <tr>\n",
       "      <th>3</th>\n",
       "      <td>Hiring For DATA Scientist @ NTT DATA Business ...</td>\n",
       "      <td>Bangalore/Bengaluru, Noida, Hyderabad/Secunder...</td>\n",
       "      <td>NTT DATA Business Solutions Private Limited</td>\n",
       "    </tr>\n",
       "    <tr>\n",
       "      <th>4</th>\n",
       "      <td>Data Scientist - A.P. Maersk</td>\n",
       "      <td>Bangalore/Bengaluru\\n(WFH during Covid)</td>\n",
       "      <td>Maersk</td>\n",
       "    </tr>\n",
       "    <tr>\n",
       "      <th>5</th>\n",
       "      <td>Data Scientist</td>\n",
       "      <td>Bangalore/Bengaluru</td>\n",
       "      <td>Infosys</td>\n",
       "    </tr>\n",
       "    <tr>\n",
       "      <th>6</th>\n",
       "      <td>Data Scientist</td>\n",
       "      <td>Bangalore/Bengaluru</td>\n",
       "      <td>United Phosphorus Limited</td>\n",
       "    </tr>\n",
       "    <tr>\n",
       "      <th>7</th>\n",
       "      <td>Data Scientist</td>\n",
       "      <td>Bangalore/Bengaluru</td>\n",
       "      <td>United Phosphorus Limited</td>\n",
       "    </tr>\n",
       "    <tr>\n",
       "      <th>8</th>\n",
       "      <td>Data Scientist</td>\n",
       "      <td>Bangalore/Bengaluru</td>\n",
       "      <td>United Phosphorus Limited</td>\n",
       "    </tr>\n",
       "    <tr>\n",
       "      <th>9</th>\n",
       "      <td>Data Scientist</td>\n",
       "      <td>Bangalore/Bengaluru</td>\n",
       "      <td>United Phosphorus Limited</td>\n",
       "    </tr>\n",
       "  </tbody>\n",
       "</table>\n",
       "</div>"
      ],
      "text/plain": [
       "                                           Job Title  \\\n",
       "0  Job Opportunity on Data Science_ Python with T...   \n",
       "1                   Assistant Manager - Data Science   \n",
       "2                   Analystics & Modeling Specialist   \n",
       "3  Hiring For DATA Scientist @ NTT DATA Business ...   \n",
       "4                       Data Scientist - A.P. Maersk   \n",
       "5                                     Data Scientist   \n",
       "6                                     Data Scientist   \n",
       "7                                     Data Scientist   \n",
       "8                                     Data Scientist   \n",
       "9                                     Data Scientist   \n",
       "\n",
       "                                        Job Location  \\\n",
       "0  Bangalore/Bengaluru, Kolkata, Hyderabad/Secund...   \n",
       "1                  Bangalore/Bengaluru, Mumbai, Pune   \n",
       "2  Bangalore/Bengaluru, Kolkata, Mumbai, Hyderaba...   \n",
       "3  Bangalore/Bengaluru, Noida, Hyderabad/Secunder...   \n",
       "4            Bangalore/Bengaluru\\n(WFH during Covid)   \n",
       "5                                Bangalore/Bengaluru   \n",
       "6                                Bangalore/Bengaluru   \n",
       "7                                Bangalore/Bengaluru   \n",
       "8                                Bangalore/Bengaluru   \n",
       "9                                Bangalore/Bengaluru   \n",
       "\n",
       "                                  Company Name  \n",
       "0                                Tech Mahindra  \n",
       "1                                   CitiusTech  \n",
       "2                                    Accenture  \n",
       "3  NTT DATA Business Solutions Private Limited  \n",
       "4                                       Maersk  \n",
       "5                                      Infosys  \n",
       "6                    United Phosphorus Limited  \n",
       "7                    United Phosphorus Limited  \n",
       "8                    United Phosphorus Limited  \n",
       "9                    United Phosphorus Limited  "
      ]
     },
     "execution_count": 19,
     "metadata": {},
     "output_type": "execute_result"
    }
   ],
   "source": [
    "#storing in a data frame\n",
    "df=pd.DataFrame({'Job Title':title,'Job Location':loc,'Company Name':company_name})\n",
    "df                "
   ]
  },
  {
   "cell_type": "markdown",
   "id": "bfd43d8f",
   "metadata": {},
   "source": [
    "#### Q3"
   ]
  },
  {
   "cell_type": "code",
   "execution_count": 20,
   "id": "bb4a74bd",
   "metadata": {},
   "outputs": [],
   "source": [
    "#connecting to driver\n",
    "driver=webdriver.Chrome(r\"C:\\Users\\JOHN TOJO\\Downloads\\chromedriver_win32\\chromedriver.exe\")"
   ]
  },
  {
   "cell_type": "code",
   "execution_count": 21,
   "id": "2b8a9a87",
   "metadata": {},
   "outputs": [],
   "source": [
    "#connecting to webpage\n",
    "driver.get('https://www.naukri.com/')"
   ]
  },
  {
   "cell_type": "code",
   "execution_count": 22,
   "id": "fd30ce90",
   "metadata": {},
   "outputs": [],
   "source": [
    "#entering the designation as required in the given problem\n",
    "designation=driver.find_element(By.XPATH,'/html/body/div[1]/div[6]/div/div/div[1]/div/div/div/input')\n",
    "designation.click()\n",
    "designation.send_keys('Data Scientist')"
   ]
  },
  {
   "cell_type": "code",
   "execution_count": 23,
   "id": "31089840",
   "metadata": {},
   "outputs": [],
   "source": [
    "#need to click on submit button to proceed to the filtered page \n",
    "search=driver.find_element(By.XPATH,'/html/body/div[1]/div[6]/div/div/div[6]')\n",
    "search.click()"
   ]
  },
  {
   "cell_type": "code",
   "execution_count": 29,
   "id": "984fef7a",
   "metadata": {},
   "outputs": [
    {
     "ename": "NoSuchElementException",
     "evalue": "Message: no such element: Unable to locate element: {\"method\":\"xpath\",\"selector\":\"/html/body/div[1]/div[4]/div/section[1]/div[2]/div[5]/div[2]/div[3]/label/i\"}\n  (Session info: chrome=105.0.5195.102)\nStacktrace:\nBacktrace:\n\tOrdinal0 [0x008CDF13+2219795]\n\tOrdinal0 [0x00862841+1779777]\n\tOrdinal0 [0x0077423D+803389]\n\tOrdinal0 [0x007A3025+995365]\n\tOrdinal0 [0x007A31EB+995819]\n\tOrdinal0 [0x007D0F52+1183570]\n\tOrdinal0 [0x007BE844+1108036]\n\tOrdinal0 [0x007CF192+1175954]\n\tOrdinal0 [0x007BE616+1107478]\n\tOrdinal0 [0x00797F89+950153]\n\tOrdinal0 [0x00798F56+954198]\n\tGetHandleVerifier [0x00BC2CB2+3040210]\n\tGetHandleVerifier [0x00BB2BB4+2974420]\n\tGetHandleVerifier [0x00966A0A+565546]\n\tGetHandleVerifier [0x00965680+560544]\n\tOrdinal0 [0x00869A5C+1808988]\n\tOrdinal0 [0x0086E3A8+1827752]\n\tOrdinal0 [0x0086E495+1827989]\n\tOrdinal0 [0x008780A4+1867940]\n\tBaseThreadInitThunk [0x7700FA29+25]\n\tRtlGetAppContainerNamedObjectPath [0x77327A9E+286]\n\tRtlGetAppContainerNamedObjectPath [0x77327A6E+238]\n",
     "output_type": "error",
     "traceback": [
      "\u001b[1;31m---------------------------------------------------------------------------\u001b[0m",
      "\u001b[1;31mNoSuchElementException\u001b[0m                    Traceback (most recent call last)",
      "\u001b[1;32mC:\\Users\\JOHNTO~1\\AppData\\Local\\Temp/ipykernel_23560/578278430.py\u001b[0m in \u001b[0;36m<module>\u001b[1;34m\u001b[0m\n\u001b[0;32m      1\u001b[0m \u001b[1;31m#filter data according to the required location\u001b[0m\u001b[1;33m\u001b[0m\u001b[1;33m\u001b[0m\u001b[0m\n\u001b[1;32m----> 2\u001b[1;33m \u001b[0mfilter_loc\u001b[0m\u001b[1;33m=\u001b[0m\u001b[0mdriver\u001b[0m\u001b[1;33m.\u001b[0m\u001b[0mfind_element\u001b[0m\u001b[1;33m(\u001b[0m\u001b[0mBy\u001b[0m\u001b[1;33m.\u001b[0m\u001b[0mXPATH\u001b[0m\u001b[1;33m,\u001b[0m\u001b[1;34m'/html/body/div[1]/div[4]/div/section[1]/div[2]/div[5]/div[2]/div[3]/label/i'\u001b[0m\u001b[1;33m)\u001b[0m\u001b[1;33m\u001b[0m\u001b[1;33m\u001b[0m\u001b[0m\n\u001b[0m\u001b[0;32m      3\u001b[0m \u001b[0mfilter_loc\u001b[0m\u001b[1;33m.\u001b[0m\u001b[0mclick\u001b[0m\u001b[1;33m(\u001b[0m\u001b[1;33m)\u001b[0m\u001b[1;33m\u001b[0m\u001b[1;33m\u001b[0m\u001b[0m\n",
      "\u001b[1;32mC:\\anaconda\\lib\\site-packages\\selenium\\webdriver\\remote\\webdriver.py\u001b[0m in \u001b[0;36mfind_element\u001b[1;34m(self, by, value)\u001b[0m\n\u001b[0;32m    853\u001b[0m             \u001b[0mvalue\u001b[0m \u001b[1;33m=\u001b[0m \u001b[1;34m'[name=\"%s\"]'\u001b[0m \u001b[1;33m%\u001b[0m \u001b[0mvalue\u001b[0m\u001b[1;33m\u001b[0m\u001b[1;33m\u001b[0m\u001b[0m\n\u001b[0;32m    854\u001b[0m \u001b[1;33m\u001b[0m\u001b[0m\n\u001b[1;32m--> 855\u001b[1;33m         return self.execute(Command.FIND_ELEMENT, {\n\u001b[0m\u001b[0;32m    856\u001b[0m             \u001b[1;34m'using'\u001b[0m\u001b[1;33m:\u001b[0m \u001b[0mby\u001b[0m\u001b[1;33m,\u001b[0m\u001b[1;33m\u001b[0m\u001b[1;33m\u001b[0m\u001b[0m\n\u001b[0;32m    857\u001b[0m             'value': value})['value']\n",
      "\u001b[1;32mC:\\anaconda\\lib\\site-packages\\selenium\\webdriver\\remote\\webdriver.py\u001b[0m in \u001b[0;36mexecute\u001b[1;34m(self, driver_command, params)\u001b[0m\n\u001b[0;32m    426\u001b[0m         \u001b[0mresponse\u001b[0m \u001b[1;33m=\u001b[0m \u001b[0mself\u001b[0m\u001b[1;33m.\u001b[0m\u001b[0mcommand_executor\u001b[0m\u001b[1;33m.\u001b[0m\u001b[0mexecute\u001b[0m\u001b[1;33m(\u001b[0m\u001b[0mdriver_command\u001b[0m\u001b[1;33m,\u001b[0m \u001b[0mparams\u001b[0m\u001b[1;33m)\u001b[0m\u001b[1;33m\u001b[0m\u001b[1;33m\u001b[0m\u001b[0m\n\u001b[0;32m    427\u001b[0m         \u001b[1;32mif\u001b[0m \u001b[0mresponse\u001b[0m\u001b[1;33m:\u001b[0m\u001b[1;33m\u001b[0m\u001b[1;33m\u001b[0m\u001b[0m\n\u001b[1;32m--> 428\u001b[1;33m             \u001b[0mself\u001b[0m\u001b[1;33m.\u001b[0m\u001b[0merror_handler\u001b[0m\u001b[1;33m.\u001b[0m\u001b[0mcheck_response\u001b[0m\u001b[1;33m(\u001b[0m\u001b[0mresponse\u001b[0m\u001b[1;33m)\u001b[0m\u001b[1;33m\u001b[0m\u001b[1;33m\u001b[0m\u001b[0m\n\u001b[0m\u001b[0;32m    429\u001b[0m             response['value'] = self._unwrap_value(\n\u001b[0;32m    430\u001b[0m                 response.get('value', None))\n",
      "\u001b[1;32mC:\\anaconda\\lib\\site-packages\\selenium\\webdriver\\remote\\errorhandler.py\u001b[0m in \u001b[0;36mcheck_response\u001b[1;34m(self, response)\u001b[0m\n\u001b[0;32m    241\u001b[0m                 \u001b[0malert_text\u001b[0m \u001b[1;33m=\u001b[0m \u001b[0mvalue\u001b[0m\u001b[1;33m[\u001b[0m\u001b[1;34m'alert'\u001b[0m\u001b[1;33m]\u001b[0m\u001b[1;33m.\u001b[0m\u001b[0mget\u001b[0m\u001b[1;33m(\u001b[0m\u001b[1;34m'text'\u001b[0m\u001b[1;33m)\u001b[0m\u001b[1;33m\u001b[0m\u001b[1;33m\u001b[0m\u001b[0m\n\u001b[0;32m    242\u001b[0m             \u001b[1;32mraise\u001b[0m \u001b[0mexception_class\u001b[0m\u001b[1;33m(\u001b[0m\u001b[0mmessage\u001b[0m\u001b[1;33m,\u001b[0m \u001b[0mscreen\u001b[0m\u001b[1;33m,\u001b[0m \u001b[0mstacktrace\u001b[0m\u001b[1;33m,\u001b[0m \u001b[0malert_text\u001b[0m\u001b[1;33m)\u001b[0m  \u001b[1;31m# type: ignore[call-arg]  # mypy is not smart enough here\u001b[0m\u001b[1;33m\u001b[0m\u001b[1;33m\u001b[0m\u001b[0m\n\u001b[1;32m--> 243\u001b[1;33m         \u001b[1;32mraise\u001b[0m \u001b[0mexception_class\u001b[0m\u001b[1;33m(\u001b[0m\u001b[0mmessage\u001b[0m\u001b[1;33m,\u001b[0m \u001b[0mscreen\u001b[0m\u001b[1;33m,\u001b[0m \u001b[0mstacktrace\u001b[0m\u001b[1;33m)\u001b[0m\u001b[1;33m\u001b[0m\u001b[1;33m\u001b[0m\u001b[0m\n\u001b[0m",
      "\u001b[1;31mNoSuchElementException\u001b[0m: Message: no such element: Unable to locate element: {\"method\":\"xpath\",\"selector\":\"/html/body/div[1]/div[4]/div/section[1]/div[2]/div[5]/div[2]/div[3]/label/i\"}\n  (Session info: chrome=105.0.5195.102)\nStacktrace:\nBacktrace:\n\tOrdinal0 [0x008CDF13+2219795]\n\tOrdinal0 [0x00862841+1779777]\n\tOrdinal0 [0x0077423D+803389]\n\tOrdinal0 [0x007A3025+995365]\n\tOrdinal0 [0x007A31EB+995819]\n\tOrdinal0 [0x007D0F52+1183570]\n\tOrdinal0 [0x007BE844+1108036]\n\tOrdinal0 [0x007CF192+1175954]\n\tOrdinal0 [0x007BE616+1107478]\n\tOrdinal0 [0x00797F89+950153]\n\tOrdinal0 [0x00798F56+954198]\n\tGetHandleVerifier [0x00BC2CB2+3040210]\n\tGetHandleVerifier [0x00BB2BB4+2974420]\n\tGetHandleVerifier [0x00966A0A+565546]\n\tGetHandleVerifier [0x00965680+560544]\n\tOrdinal0 [0x00869A5C+1808988]\n\tOrdinal0 [0x0086E3A8+1827752]\n\tOrdinal0 [0x0086E495+1827989]\n\tOrdinal0 [0x008780A4+1867940]\n\tBaseThreadInitThunk [0x7700FA29+25]\n\tRtlGetAppContainerNamedObjectPath [0x77327A9E+286]\n\tRtlGetAppContainerNamedObjectPath [0x77327A6E+238]\n"
     ]
    }
   ],
   "source": [
    "#filter data according to the required location\n",
    "filter_loc=driver.find_element(By.XPATH,'/html/body/div[1]/div[4]/div/section[1]/div[2]/div[5]/div[2]/div[3]/label/i')\n",
    "filter_loc.click()"
   ]
  },
  {
   "cell_type": "code",
   "execution_count": 30,
   "id": "dc3e9db5",
   "metadata": {},
   "outputs": [],
   "source": [
    "#filter data according to the required salary \n",
    "filter_sal=driver.find_element(By.XPATH,'/html/body/div[1]/div[4]/div/section[1]/div[2]/div[6]/div[2]/div[2]/label/i')\n",
    "filter_sal.click()"
   ]
  },
  {
   "cell_type": "code",
   "execution_count": 31,
   "id": "425c776c",
   "metadata": {},
   "outputs": [],
   "source": [
    "#initializing empty list to store the data necessary\n",
    "title=[]         #stores Job Title\n",
    "loc=[]           #stores Job Location \n",
    "company_name=[]  #stores Company Name\n",
    "exp=[]           #stores Experience Required   "
   ]
  },
  {
   "cell_type": "code",
   "execution_count": 32,
   "id": "e50f4d1c",
   "metadata": {},
   "outputs": [],
   "source": [
    "#scrapping the required details in the given problem, here only 10 data are needed hence in the loop [0:10] is used \n",
    "\n",
    "title_tag=driver.find_elements(By.XPATH,'//a[@class=\"title fw500 ellipsis\"]')\n",
    "for i in title_tag[0:10]:\n",
    "    title.append(i.text)\n",
    "\n",
    "loc_tag=driver.find_elements(By.XPATH,'//li[@class=\"fleft grey-text br2 placeHolderLi location\"]')\n",
    "for i in loc_tag[0:10]:\n",
    "    loc.append(i.text)    \n",
    "\n",
    "company_name_tag=driver.find_elements(By.XPATH,'//a[@class=\"subTitle ellipsis fleft\"]')\n",
    "for i in company_name_tag[0:10]:\n",
    "    company_name.append(i.text)\n",
    "    \n",
    "exp_tag=driver.find_elements(By.XPATH,'//li[@class=\"fleft grey-text br2 placeHolderLi experience\"]')\n",
    "for i in exp_tag[0:10]:\n",
    "    exp.append(i.text)    "
   ]
  },
  {
   "cell_type": "code",
   "execution_count": 33,
   "id": "8541906a",
   "metadata": {},
   "outputs": [
    {
     "name": "stdout",
     "output_type": "stream",
     "text": [
      "10 10 10 10\n"
     ]
    }
   ],
   "source": [
    "#confirmation of the length of each variable\n",
    "print(len(title),len(loc),len(company_name),len(exp))"
   ]
  },
  {
   "cell_type": "code",
   "execution_count": 34,
   "id": "4ba9fa1b",
   "metadata": {},
   "outputs": [
    {
     "data": {
      "text/html": [
       "<div>\n",
       "<style scoped>\n",
       "    .dataframe tbody tr th:only-of-type {\n",
       "        vertical-align: middle;\n",
       "    }\n",
       "\n",
       "    .dataframe tbody tr th {\n",
       "        vertical-align: top;\n",
       "    }\n",
       "\n",
       "    .dataframe thead th {\n",
       "        text-align: right;\n",
       "    }\n",
       "</style>\n",
       "<table border=\"1\" class=\"dataframe\">\n",
       "  <thead>\n",
       "    <tr style=\"text-align: right;\">\n",
       "      <th></th>\n",
       "      <th>Job Title</th>\n",
       "      <th>Job Location</th>\n",
       "      <th>Company Name</th>\n",
       "      <th>Experience Required</th>\n",
       "    </tr>\n",
       "  </thead>\n",
       "  <tbody>\n",
       "    <tr>\n",
       "      <th>0</th>\n",
       "      <td>DigitalBCG GAMMA Data Scientist</td>\n",
       "      <td>New Delhi, Bangalore/Bengaluru</td>\n",
       "      <td>Boston Consulting Group</td>\n",
       "      <td>2-5 Yrs</td>\n",
       "    </tr>\n",
       "    <tr>\n",
       "      <th>1</th>\n",
       "      <td>Data Scientist</td>\n",
       "      <td>Gurgaon/Gurugram</td>\n",
       "      <td>Optum</td>\n",
       "      <td>2-7 Yrs</td>\n",
       "    </tr>\n",
       "    <tr>\n",
       "      <th>2</th>\n",
       "      <td>Data Scientist / Chat-bot Developer</td>\n",
       "      <td>New Delhi, Bangalore/Bengaluru, Mumbai (All Ar...</td>\n",
       "      <td>Big Seo Buzz</td>\n",
       "      <td>3-7 Yrs</td>\n",
       "    </tr>\n",
       "    <tr>\n",
       "      <th>3</th>\n",
       "      <td>Lead Data Scientist</td>\n",
       "      <td>Noida(Sector-59 Noida)\\n(WFH during Covid)</td>\n",
       "      <td>R Systems International</td>\n",
       "      <td>7-10 Yrs</td>\n",
       "    </tr>\n",
       "    <tr>\n",
       "      <th>4</th>\n",
       "      <td>Data Scientist - Predictive Analytics</td>\n",
       "      <td>Noida, Mumbai, Chandigarh, Hyderabad/Secundera...</td>\n",
       "      <td>Confidential</td>\n",
       "      <td>1-6 Yrs</td>\n",
       "    </tr>\n",
       "    <tr>\n",
       "      <th>5</th>\n",
       "      <td>Data Scientist For Healthcare Product team</td>\n",
       "      <td>Delhi / NCR, Chennai, Bangalore/Bengaluru</td>\n",
       "      <td>SECUREKLOUD TECHNOLOGIES</td>\n",
       "      <td>2-7 Yrs</td>\n",
       "    </tr>\n",
       "    <tr>\n",
       "      <th>6</th>\n",
       "      <td>Data Scientist</td>\n",
       "      <td>Noida</td>\n",
       "      <td>4i Odc</td>\n",
       "      <td>2-4 Yrs</td>\n",
       "    </tr>\n",
       "    <tr>\n",
       "      <th>7</th>\n",
       "      <td>Data Scientist - Engine Algorithm</td>\n",
       "      <td>Delhi / NCR, Kolkata, Mumbai, Hyderabad/Secund...</td>\n",
       "      <td>Primo Hiring</td>\n",
       "      <td>1-3 Yrs</td>\n",
       "    </tr>\n",
       "    <tr>\n",
       "      <th>8</th>\n",
       "      <td>Data Scientist</td>\n",
       "      <td>Gurgaon/Gurugram</td>\n",
       "      <td>Feedback Infra</td>\n",
       "      <td>2-4 Yrs</td>\n",
       "    </tr>\n",
       "    <tr>\n",
       "      <th>9</th>\n",
       "      <td>Jr. Data Scientist</td>\n",
       "      <td>Noida</td>\n",
       "      <td>Dataflow</td>\n",
       "      <td>2-5 Yrs</td>\n",
       "    </tr>\n",
       "  </tbody>\n",
       "</table>\n",
       "</div>"
      ],
      "text/plain": [
       "                                    Job Title  \\\n",
       "0             DigitalBCG GAMMA Data Scientist   \n",
       "1                              Data Scientist   \n",
       "2         Data Scientist / Chat-bot Developer   \n",
       "3                         Lead Data Scientist   \n",
       "4       Data Scientist - Predictive Analytics   \n",
       "5  Data Scientist For Healthcare Product team   \n",
       "6                              Data Scientist   \n",
       "7           Data Scientist - Engine Algorithm   \n",
       "8                              Data Scientist   \n",
       "9                          Jr. Data Scientist   \n",
       "\n",
       "                                        Job Location  \\\n",
       "0                     New Delhi, Bangalore/Bengaluru   \n",
       "1                                   Gurgaon/Gurugram   \n",
       "2  New Delhi, Bangalore/Bengaluru, Mumbai (All Ar...   \n",
       "3         Noida(Sector-59 Noida)\\n(WFH during Covid)   \n",
       "4  Noida, Mumbai, Chandigarh, Hyderabad/Secundera...   \n",
       "5          Delhi / NCR, Chennai, Bangalore/Bengaluru   \n",
       "6                                              Noida   \n",
       "7  Delhi / NCR, Kolkata, Mumbai, Hyderabad/Secund...   \n",
       "8                                   Gurgaon/Gurugram   \n",
       "9                                              Noida   \n",
       "\n",
       "               Company Name Experience Required  \n",
       "0   Boston Consulting Group             2-5 Yrs  \n",
       "1                     Optum             2-7 Yrs  \n",
       "2              Big Seo Buzz             3-7 Yrs  \n",
       "3   R Systems International            7-10 Yrs  \n",
       "4              Confidential             1-6 Yrs  \n",
       "5  SECUREKLOUD TECHNOLOGIES             2-7 Yrs  \n",
       "6                    4i Odc             2-4 Yrs  \n",
       "7              Primo Hiring             1-3 Yrs  \n",
       "8            Feedback Infra             2-4 Yrs  \n",
       "9                  Dataflow             2-5 Yrs  "
      ]
     },
     "execution_count": 34,
     "metadata": {},
     "output_type": "execute_result"
    }
   ],
   "source": [
    "#storing in a data frame\n",
    "df=pd.DataFrame({'Job Title':title,'Job Location':loc,'Company Name':company_name,'Experience Required':exp})\n",
    "df"
   ]
  },
  {
   "cell_type": "markdown",
   "id": "5bad6b91",
   "metadata": {},
   "source": [
    "#### Q4"
   ]
  },
  {
   "cell_type": "code",
   "execution_count": 35,
   "id": "2a1e9845",
   "metadata": {},
   "outputs": [],
   "source": [
    "#connecting to driver\n",
    "driver=webdriver.Chrome(r\"C:\\Users\\JOHN TOJO\\Downloads\\chromedriver_win32\\chromedriver.exe\")"
   ]
  },
  {
   "cell_type": "code",
   "execution_count": 36,
   "id": "970f6530",
   "metadata": {},
   "outputs": [],
   "source": [
    "#connecting to webpage\n",
    "driver.get('https://www.flipkart.com/')"
   ]
  },
  {
   "cell_type": "code",
   "execution_count": 37,
   "id": "5821b2e0",
   "metadata": {},
   "outputs": [],
   "source": [
    "#need to close the pop up \n",
    "close=driver.find_element(By.XPATH,'/html/body/div[2]/div/div/button')\n",
    "close.click()"
   ]
  },
  {
   "cell_type": "code",
   "execution_count": 38,
   "id": "c844956c",
   "metadata": {},
   "outputs": [],
   "source": [
    "#entering the item required as required in the given problem\n",
    "item=driver.find_element(By.XPATH,'/html/body/div[1]/div/div[1]/div[1]/div[2]/div[2]/form/div/div/input')\n",
    "item.click()\n",
    "item.send_keys('sunglasses')"
   ]
  },
  {
   "cell_type": "code",
   "execution_count": 39,
   "id": "374fb952",
   "metadata": {},
   "outputs": [],
   "source": [
    "#need to click on search button to proceed to the filtered page \n",
    "search=driver.find_element(By.XPATH,'/html/body/div[1]/div/div[1]/div[1]/div[2]/div[2]/form/div/button')\n",
    "search.click()"
   ]
  },
  {
   "cell_type": "code",
   "execution_count": 40,
   "id": "954e17ec",
   "metadata": {},
   "outputs": [],
   "source": [
    "#initializing empty list to store the data necessary\n",
    "brand=[]         #stores Brand\n",
    "description=[]   #stores Product Description\n",
    "price=[]         #stores Price"
   ]
  },
  {
   "cell_type": "code",
   "execution_count": 41,
   "id": "509d1b1f",
   "metadata": {},
   "outputs": [],
   "source": [
    "# useing the first loop to go throught the pages to get required no of results to be scrapped\n",
    "#scrapping the required details usig the other loops\n",
    "start=0\n",
    "end=3\n",
    "for page in range(start,end):\n",
    "    \n",
    "    brand_tag=driver.find_elements(By.XPATH,'//div[@class=\"_2WkVRV\"]')\n",
    "    for i in brand_tag[0:40]:\n",
    "        brand.append(i.text)\n",
    "        \n",
    "    description_tag=driver.find_elements(By.XPATH,'//a[@class=\"IRpwTa\"]')\n",
    "    for i in description_tag[0:40]:\n",
    "        description.append(i.text)    \n",
    "    \n",
    "    price_tag=driver.find_elements(By.XPATH,'//div[@class=\"_30jeq3\"]')\n",
    "    for i in price_tag[0:40]:\n",
    "        price.append(i.text)\n",
    "    \n",
    "    next_button=driver.find_element(By.XPATH,'//a[@class=\"_1LKTO3\"]')\n",
    "    next_button.click()\n",
    "    time.sleep(3)  \n",
    "\n",
    "    "
   ]
  },
  {
   "cell_type": "code",
   "execution_count": 42,
   "id": "879a7287",
   "metadata": {},
   "outputs": [
    {
     "name": "stdout",
     "output_type": "stream",
     "text": [
      "120 120 120\n"
     ]
    }
   ],
   "source": [
    "print(len(brand),len(description),len(price))"
   ]
  },
  {
   "cell_type": "code",
   "execution_count": 43,
   "id": "54a7d9c8",
   "metadata": {},
   "outputs": [
    {
     "data": {
      "text/html": [
       "<div>\n",
       "<style scoped>\n",
       "    .dataframe tbody tr th:only-of-type {\n",
       "        vertical-align: middle;\n",
       "    }\n",
       "\n",
       "    .dataframe tbody tr th {\n",
       "        vertical-align: top;\n",
       "    }\n",
       "\n",
       "    .dataframe thead th {\n",
       "        text-align: right;\n",
       "    }\n",
       "</style>\n",
       "<table border=\"1\" class=\"dataframe\">\n",
       "  <thead>\n",
       "    <tr style=\"text-align: right;\">\n",
       "      <th></th>\n",
       "      <th>brand</th>\n",
       "      <th>description</th>\n",
       "      <th>price</th>\n",
       "    </tr>\n",
       "  </thead>\n",
       "  <tbody>\n",
       "    <tr>\n",
       "      <th>0</th>\n",
       "      <td>VINCENT CHASE</td>\n",
       "      <td>by Lenskart Polarized, UV Protection Cat-eye S...</td>\n",
       "      <td>₹1,049</td>\n",
       "    </tr>\n",
       "    <tr>\n",
       "      <th>1</th>\n",
       "      <td>VINCENT CHASE</td>\n",
       "      <td>by Lenskart Polarized, UV Protection Round Sun...</td>\n",
       "      <td>₹999</td>\n",
       "    </tr>\n",
       "    <tr>\n",
       "      <th>2</th>\n",
       "      <td>PHENOMENAL</td>\n",
       "      <td>UV Protection Retro Square Sunglasses (53)</td>\n",
       "      <td>₹240</td>\n",
       "    </tr>\n",
       "    <tr>\n",
       "      <th>3</th>\n",
       "      <td>New Specs</td>\n",
       "      <td>UV Protection Rectangular Sunglasses (Free Size)</td>\n",
       "      <td>₹264</td>\n",
       "    </tr>\n",
       "    <tr>\n",
       "      <th>4</th>\n",
       "      <td>Elligator</td>\n",
       "      <td>UV Protection Round Sunglasses (54)</td>\n",
       "      <td>₹298</td>\n",
       "    </tr>\n",
       "    <tr>\n",
       "      <th>...</th>\n",
       "      <td>...</td>\n",
       "      <td>...</td>\n",
       "      <td>...</td>\n",
       "    </tr>\n",
       "    <tr>\n",
       "      <th>95</th>\n",
       "      <td>Mi</td>\n",
       "      <td>Polarized Aviator Sunglasses (Free Size)</td>\n",
       "      <td>₹799</td>\n",
       "    </tr>\n",
       "    <tr>\n",
       "      <th>96</th>\n",
       "      <td>Fastrack</td>\n",
       "      <td>UV Protection Aviator Sunglasses (Free Size)</td>\n",
       "      <td>₹639</td>\n",
       "    </tr>\n",
       "    <tr>\n",
       "      <th>97</th>\n",
       "      <td>VINCENT CHASE</td>\n",
       "      <td>UV Protection Wayfarer Sunglasses (62)</td>\n",
       "      <td>₹749</td>\n",
       "    </tr>\n",
       "    <tr>\n",
       "      <th>98</th>\n",
       "      <td>DAHAAZIL</td>\n",
       "      <td>UV Protection, Night Vision, Riding Glasses Wa...</td>\n",
       "      <td>₹177</td>\n",
       "    </tr>\n",
       "    <tr>\n",
       "      <th>99</th>\n",
       "      <td>PIRASO</td>\n",
       "      <td>UV Protection Wayfarer Sunglasses (32)</td>\n",
       "      <td>₹251</td>\n",
       "    </tr>\n",
       "  </tbody>\n",
       "</table>\n",
       "<p>100 rows × 3 columns</p>\n",
       "</div>"
      ],
      "text/plain": [
       "            brand                                        description   price\n",
       "0   VINCENT CHASE  by Lenskart Polarized, UV Protection Cat-eye S...  ₹1,049\n",
       "1   VINCENT CHASE  by Lenskart Polarized, UV Protection Round Sun...    ₹999\n",
       "2      PHENOMENAL         UV Protection Retro Square Sunglasses (53)    ₹240\n",
       "3       New Specs   UV Protection Rectangular Sunglasses (Free Size)    ₹264\n",
       "4       Elligator                UV Protection Round Sunglasses (54)    ₹298\n",
       "..            ...                                                ...     ...\n",
       "95             Mi           Polarized Aviator Sunglasses (Free Size)    ₹799\n",
       "96       Fastrack       UV Protection Aviator Sunglasses (Free Size)    ₹639\n",
       "97  VINCENT CHASE             UV Protection Wayfarer Sunglasses (62)    ₹749\n",
       "98       DAHAAZIL  UV Protection, Night Vision, Riding Glasses Wa...    ₹177\n",
       "99         PIRASO             UV Protection Wayfarer Sunglasses (32)    ₹251\n",
       "\n",
       "[100 rows x 3 columns]"
      ]
     },
     "execution_count": 43,
     "metadata": {},
     "output_type": "execute_result"
    }
   ],
   "source": [
    "df=pd.DataFrame({'brand':brand,'description':description,'price':price})\n",
    "df.drop(index=df.index[100:],inplace=True) \n",
    "df"
   ]
  },
  {
   "cell_type": "markdown",
   "id": "7002ba0d",
   "metadata": {},
   "source": [
    "#### q5"
   ]
  },
  {
   "cell_type": "code",
   "execution_count": 47,
   "id": "0f50caf4",
   "metadata": {},
   "outputs": [],
   "source": [
    "#connecting to driver\n",
    "driver=webdriver.Chrome(r\"C:\\Users\\JOHN TOJO\\Downloads\\chromedriver_win32\\chromedriver.exe\")"
   ]
  },
  {
   "cell_type": "code",
   "execution_count": 48,
   "id": "3fc5f73c",
   "metadata": {},
   "outputs": [],
   "source": [
    "#connecting to webpage\n",
    "driver.get('https://www.flipkart.com/')"
   ]
  },
  {
   "cell_type": "code",
   "execution_count": 49,
   "id": "d0bcc0bb",
   "metadata": {},
   "outputs": [],
   "source": [
    "#need to close the pop up \n",
    "close=driver.find_element(By.XPATH,'/html/body/div[2]/div/div/button')\n",
    "close.click()"
   ]
  },
  {
   "cell_type": "code",
   "execution_count": 50,
   "id": "6077bd60",
   "metadata": {},
   "outputs": [],
   "source": [
    "#entering the item required as required in the given problem\n",
    "item=driver.find_element(By.XPATH,'/html/body/div[1]/div/div[1]/div[1]/div[2]/div[2]/form/div/div/input')\n",
    "item.click()\n",
    "item.send_keys('iphone 11')"
   ]
  },
  {
   "cell_type": "code",
   "execution_count": 51,
   "id": "93a4a968",
   "metadata": {},
   "outputs": [],
   "source": [
    "#need to click on search button to proceed to the filtered page \n",
    "search=driver.find_element(By.XPATH,'/html/body/div[1]/div/div[1]/div[1]/div[2]/div[2]/form/div/button')\n",
    "search.click()"
   ]
  },
  {
   "cell_type": "code",
   "execution_count": 54,
   "id": "bb5975d9",
   "metadata": {},
   "outputs": [],
   "source": [
    "#need to click on first search \n",
    "s=driver.find_element(By.XPATH,'/html/body/div[1]/div/div[3]/div[1]/div[2]/div[2]/div/div/div/a/div[2]')\n",
    "s.click()"
   ]
  },
  {
   "cell_type": "code",
   "execution_count": null,
   "id": "8aea9046",
   "metadata": {},
   "outputs": [],
   "source": [
    "#need to click on all review button \n",
    "t=driver.find_element(By.XPATH,'//div[@class=\"_2c2kV-\"]')\n",
    "t.click()"
   ]
  },
  {
   "cell_type": "markdown",
   "id": "644a20ca",
   "metadata": {},
   "source": [
    "the click all review button doesnt work so was advised to use link and just do extraction"
   ]
  },
  {
   "cell_type": "code",
   "execution_count": 56,
   "id": "f2a94e21",
   "metadata": {},
   "outputs": [],
   "source": [
    "#connecting to driver\n",
    "driver=webdriver.Chrome(r\"C:\\Users\\JOHN TOJO\\Downloads\\chromedriver_win32\\chromedriver.exe\")"
   ]
  },
  {
   "cell_type": "code",
   "execution_count": 57,
   "id": "585e01e2",
   "metadata": {},
   "outputs": [],
   "source": [
    "#connecting to webpage\n",
    "driver.get('https://www.flipkart.com/apple-iphone-11-white-64-gb/product-reviews/itmfc6a7091eb20b?pid=MOBFWQ6BVWVEH3XE&lid=LSTMOBFWQ6BVWVEH3XEMXQMLO&marketplace=FLIPKART')"
   ]
  },
  {
   "cell_type": "code",
   "execution_count": 58,
   "id": "47de1e1d",
   "metadata": {},
   "outputs": [],
   "source": [
    "#initializing empty list to store the data necessary\n",
    "review_summary=[]         #stores Review summary\n",
    "full_review=[]            #stores Full review\n",
    "rating=[]                 #stores Rating"
   ]
  },
  {
   "cell_type": "code",
   "execution_count": 59,
   "id": "2c3755c8",
   "metadata": {},
   "outputs": [],
   "source": [
    "# useing the first loop to go throught the pages to get required no of results to be scrapped\n",
    "#scrapping the required details usig the other loops\n",
    "start=0\n",
    "end=10\n",
    "for page in range(start,end):\n",
    "    \n",
    "    rating_tag=driver.find_elements(By.XPATH,'//div[@class=\"_3LWZlK _1BLPMq\"]')\n",
    "    for i in rating_tag:\n",
    "        rating.append(i.text)\n",
    "        \n",
    "    review_summary_tag=driver.find_elements(By.XPATH,'//p[@class=\"_2-N8zT\"]')\n",
    "    for i in review_summary_tag[0:40]:\n",
    "        review_summary.append(i.text)    \n",
    "    \n",
    "    full_review_tag=driver.find_elements(By.XPATH,'//div[@class=\"t-ZTKy\"]')\n",
    "    for i in full_review_tag[0:40]:\n",
    "        full_review.append(i.text)\n",
    "    \n",
    "    next_button=driver.find_element(By.XPATH,'//a[@class=\"_1LKTO3\"]')\n",
    "    next_button.click()\n",
    "    time.sleep(3)  \n",
    "\n",
    "    "
   ]
  },
  {
   "cell_type": "code",
   "execution_count": 60,
   "id": "dbb0e234",
   "metadata": {},
   "outputs": [
    {
     "name": "stdout",
     "output_type": "stream",
     "text": [
      "100 100 100\n"
     ]
    }
   ],
   "source": [
    "print(len(rating),len(review_summary),len(full_review))"
   ]
  },
  {
   "cell_type": "code",
   "execution_count": 61,
   "id": "a63843b2",
   "metadata": {},
   "outputs": [
    {
     "data": {
      "text/html": [
       "<div>\n",
       "<style scoped>\n",
       "    .dataframe tbody tr th:only-of-type {\n",
       "        vertical-align: middle;\n",
       "    }\n",
       "\n",
       "    .dataframe tbody tr th {\n",
       "        vertical-align: top;\n",
       "    }\n",
       "\n",
       "    .dataframe thead th {\n",
       "        text-align: right;\n",
       "    }\n",
       "</style>\n",
       "<table border=\"1\" class=\"dataframe\">\n",
       "  <thead>\n",
       "    <tr style=\"text-align: right;\">\n",
       "      <th></th>\n",
       "      <th>Rating</th>\n",
       "      <th>Review summary</th>\n",
       "      <th>Full review</th>\n",
       "    </tr>\n",
       "  </thead>\n",
       "  <tbody>\n",
       "    <tr>\n",
       "      <th>0</th>\n",
       "      <td>5</td>\n",
       "      <td>Simply awesome</td>\n",
       "      <td>Really satisfied with the Product I received.....</td>\n",
       "    </tr>\n",
       "    <tr>\n",
       "      <th>1</th>\n",
       "      <td>5</td>\n",
       "      <td>Perfect product!</td>\n",
       "      <td>Amazing phone with great cameras and better ba...</td>\n",
       "    </tr>\n",
       "    <tr>\n",
       "      <th>2</th>\n",
       "      <td>5</td>\n",
       "      <td>Best in the market!</td>\n",
       "      <td>Great iPhone very snappy experience as apple k...</td>\n",
       "    </tr>\n",
       "    <tr>\n",
       "      <th>3</th>\n",
       "      <td>5</td>\n",
       "      <td>Worth every penny</td>\n",
       "      <td>Previously I was using one plus 3t it was a gr...</td>\n",
       "    </tr>\n",
       "    <tr>\n",
       "      <th>4</th>\n",
       "      <td>5</td>\n",
       "      <td>Highly recommended</td>\n",
       "      <td>What a camera .....just awesome ..you can feel...</td>\n",
       "    </tr>\n",
       "    <tr>\n",
       "      <th>...</th>\n",
       "      <td>...</td>\n",
       "      <td>...</td>\n",
       "      <td>...</td>\n",
       "    </tr>\n",
       "    <tr>\n",
       "      <th>95</th>\n",
       "      <td>5</td>\n",
       "      <td>Fabulous!</td>\n",
       "      <td>This is my first iOS phone. I am very happy wi...</td>\n",
       "    </tr>\n",
       "    <tr>\n",
       "      <th>96</th>\n",
       "      <td>5</td>\n",
       "      <td>Great product</td>\n",
       "      <td>Amazing Powerful and Durable Gadget.\\n\\nI’m am...</td>\n",
       "    </tr>\n",
       "    <tr>\n",
       "      <th>97</th>\n",
       "      <td>5</td>\n",
       "      <td>Highly recommended</td>\n",
       "      <td>It's my first time to use iOS phone and I am l...</td>\n",
       "    </tr>\n",
       "    <tr>\n",
       "      <th>98</th>\n",
       "      <td>5</td>\n",
       "      <td>Worth every penny</td>\n",
       "      <td>i11 is worthy to buy, too much happy with the ...</td>\n",
       "    </tr>\n",
       "    <tr>\n",
       "      <th>99</th>\n",
       "      <td>4</td>\n",
       "      <td>Good choice</td>\n",
       "      <td>So far it’s been an AMAZING experience coming ...</td>\n",
       "    </tr>\n",
       "  </tbody>\n",
       "</table>\n",
       "<p>100 rows × 3 columns</p>\n",
       "</div>"
      ],
      "text/plain": [
       "   Rating       Review summary  \\\n",
       "0       5       Simply awesome   \n",
       "1       5     Perfect product!   \n",
       "2       5  Best in the market!   \n",
       "3       5    Worth every penny   \n",
       "4       5   Highly recommended   \n",
       "..    ...                  ...   \n",
       "95      5            Fabulous!   \n",
       "96      5        Great product   \n",
       "97      5   Highly recommended   \n",
       "98      5    Worth every penny   \n",
       "99      4          Good choice   \n",
       "\n",
       "                                          Full review  \n",
       "0   Really satisfied with the Product I received.....  \n",
       "1   Amazing phone with great cameras and better ba...  \n",
       "2   Great iPhone very snappy experience as apple k...  \n",
       "3   Previously I was using one plus 3t it was a gr...  \n",
       "4   What a camera .....just awesome ..you can feel...  \n",
       "..                                                ...  \n",
       "95  This is my first iOS phone. I am very happy wi...  \n",
       "96  Amazing Powerful and Durable Gadget.\\n\\nI’m am...  \n",
       "97  It's my first time to use iOS phone and I am l...  \n",
       "98  i11 is worthy to buy, too much happy with the ...  \n",
       "99  So far it’s been an AMAZING experience coming ...  \n",
       "\n",
       "[100 rows x 3 columns]"
      ]
     },
     "execution_count": 61,
     "metadata": {},
     "output_type": "execute_result"
    }
   ],
   "source": [
    "df=pd.DataFrame({'Rating':rating,'Review summary':review_summary,'Full review':full_review})\n",
    "df.drop(index=df.index[100:],inplace=True) \n",
    "df"
   ]
  },
  {
   "cell_type": "markdown",
   "id": "d79fd1a2",
   "metadata": {},
   "source": [
    "#### Q6"
   ]
  },
  {
   "cell_type": "code",
   "execution_count": 62,
   "id": "e82bb5f2",
   "metadata": {},
   "outputs": [],
   "source": [
    "#connecting to driver\n",
    "driver=webdriver.Chrome(r\"C:\\Users\\JOHN TOJO\\Downloads\\chromedriver_win32\\chromedriver.exe\")"
   ]
  },
  {
   "cell_type": "code",
   "execution_count": 63,
   "id": "8c2f8e7e",
   "metadata": {},
   "outputs": [],
   "source": [
    "#connecting to webpage\n",
    "driver.get('https://www.flipkart.com/')"
   ]
  },
  {
   "cell_type": "code",
   "execution_count": 64,
   "id": "c81693e0",
   "metadata": {},
   "outputs": [],
   "source": [
    "#need to close the pop up \n",
    "close=driver.find_element(By.XPATH,'/html/body/div[2]/div/div/button')\n",
    "close.click()"
   ]
  },
  {
   "cell_type": "code",
   "execution_count": 65,
   "id": "2fd075c9",
   "metadata": {},
   "outputs": [],
   "source": [
    "#entering the item required as required in the given problem\n",
    "item=driver.find_element(By.XPATH,'/html/body/div[1]/div/div[1]/div[1]/div[2]/div[2]/form/div/div/input')\n",
    "item.click()\n",
    "item.send_keys('sneakers')"
   ]
  },
  {
   "cell_type": "code",
   "execution_count": 66,
   "id": "b4721e92",
   "metadata": {},
   "outputs": [],
   "source": [
    "#need to click on search button to proceed to the filtered page \n",
    "search=driver.find_element(By.XPATH,'/html/body/div[1]/div/div[1]/div[1]/div[2]/div[2]/form/div/button')\n",
    "search.click()"
   ]
  },
  {
   "cell_type": "code",
   "execution_count": 67,
   "id": "21e20cdd",
   "metadata": {},
   "outputs": [],
   "source": [
    "#initializing empty list to store the data necessary\n",
    "brand=[]         #stores Brand\n",
    "description=[]   #stores Product Description\n",
    "price=[]         #stores Price"
   ]
  },
  {
   "cell_type": "code",
   "execution_count": 68,
   "id": "1b3c114d",
   "metadata": {},
   "outputs": [],
   "source": [
    "start=0\n",
    "end=3\n",
    "for page in range(start,end):\n",
    "    \n",
    "    brand_tag=driver.find_elements(By.XPATH,'//div[@class=\"_2WkVRV\"]')\n",
    "    for i in brand_tag[0:40]:\n",
    "        brand.append(i.text)\n",
    "        \n",
    "    description_tag=driver.find_elements(By.XPATH,'//a[@class=\"IRpwTa\"]')\n",
    "    for i in description_tag[0:40]:\n",
    "        description.append(i.text)    \n",
    "    \n",
    "    price_tag=driver.find_elements(By.XPATH,'//div[@class=\"_30jeq3\"]')\n",
    "    for i in price_tag[0:40]:\n",
    "        price.append(i.text)\n",
    "    \n",
    "    next_button=driver.find_element(By.XPATH,'//a[@class=\"_1LKTO3\"]')\n",
    "    next_button.click()\n",
    "    time.sleep(3)  \n"
   ]
  },
  {
   "cell_type": "code",
   "execution_count": 69,
   "id": "0be8def9",
   "metadata": {},
   "outputs": [
    {
     "name": "stdout",
     "output_type": "stream",
     "text": [
      "120 105 120\n"
     ]
    }
   ],
   "source": [
    "print(len(brand),len(description),len(price))"
   ]
  },
  {
   "cell_type": "code",
   "execution_count": 70,
   "id": "416fe651",
   "metadata": {},
   "outputs": [
    {
     "name": "stdout",
     "output_type": "stream",
     "text": [
      "100 100 100\n"
     ]
    }
   ],
   "source": [
    "#here there is lenght differnce between brand, description and price so to adjust create other variables\n",
    "\n",
    "brands=[]\n",
    "desc=[]\n",
    "p=[]\n",
    "for i in range(0,100):\n",
    "    brands.append(brand[i])\n",
    "    desc.append(description[i])\n",
    "    p.append(price[i])\n",
    "print(len(brands),len(desc),len(p))               "
   ]
  },
  {
   "cell_type": "code",
   "execution_count": 71,
   "id": "97436409",
   "metadata": {},
   "outputs": [
    {
     "data": {
      "text/html": [
       "<div>\n",
       "<style scoped>\n",
       "    .dataframe tbody tr th:only-of-type {\n",
       "        vertical-align: middle;\n",
       "    }\n",
       "\n",
       "    .dataframe tbody tr th {\n",
       "        vertical-align: top;\n",
       "    }\n",
       "\n",
       "    .dataframe thead th {\n",
       "        text-align: right;\n",
       "    }\n",
       "</style>\n",
       "<table border=\"1\" class=\"dataframe\">\n",
       "  <thead>\n",
       "    <tr style=\"text-align: right;\">\n",
       "      <th></th>\n",
       "      <th>brand</th>\n",
       "      <th>description</th>\n",
       "      <th>price</th>\n",
       "    </tr>\n",
       "  </thead>\n",
       "  <tbody>\n",
       "    <tr>\n",
       "      <th>0</th>\n",
       "      <td>EZDEZARIO</td>\n",
       "      <td>Sneakers For Men</td>\n",
       "      <td>₹499</td>\n",
       "    </tr>\n",
       "    <tr>\n",
       "      <th>1</th>\n",
       "      <td>TR</td>\n",
       "      <td>Sneakers For Men</td>\n",
       "      <td>₹399</td>\n",
       "    </tr>\n",
       "    <tr>\n",
       "      <th>2</th>\n",
       "      <td>RapidBox</td>\n",
       "      <td>Sneakers For Men</td>\n",
       "      <td>₹610</td>\n",
       "    </tr>\n",
       "    <tr>\n",
       "      <th>3</th>\n",
       "      <td>Magnolia</td>\n",
       "      <td>Sneakers For Men</td>\n",
       "      <td>₹419</td>\n",
       "    </tr>\n",
       "    <tr>\n",
       "      <th>4</th>\n",
       "      <td>Labbin</td>\n",
       "      <td>Sneakers For Men</td>\n",
       "      <td>₹499</td>\n",
       "    </tr>\n",
       "    <tr>\n",
       "      <th>...</th>\n",
       "      <td>...</td>\n",
       "      <td>...</td>\n",
       "      <td>...</td>\n",
       "    </tr>\n",
       "    <tr>\n",
       "      <th>95</th>\n",
       "      <td>HOTSTYLE</td>\n",
       "      <td>Serve Pro Lite Sneakers For Men</td>\n",
       "      <td>₹292</td>\n",
       "    </tr>\n",
       "    <tr>\n",
       "      <th>96</th>\n",
       "      <td>Layasa</td>\n",
       "      <td>Boomerang Stylish &amp; Comfortable Sneakers For Men</td>\n",
       "      <td>₹399</td>\n",
       "    </tr>\n",
       "    <tr>\n",
       "      <th>97</th>\n",
       "      <td>Echor</td>\n",
       "      <td>Original Luxury Branded Fashionable Men's Casu...</td>\n",
       "      <td>₹594</td>\n",
       "    </tr>\n",
       "    <tr>\n",
       "      <th>98</th>\n",
       "      <td>Deals4you</td>\n",
       "      <td>Fashion Sneaker Shoes Sneakers For Men</td>\n",
       "      <td>₹345</td>\n",
       "    </tr>\n",
       "    <tr>\n",
       "      <th>99</th>\n",
       "      <td>Krors</td>\n",
       "      <td>Sneakers For Men</td>\n",
       "      <td>₹499</td>\n",
       "    </tr>\n",
       "  </tbody>\n",
       "</table>\n",
       "<p>100 rows × 3 columns</p>\n",
       "</div>"
      ],
      "text/plain": [
       "        brand                                        description price\n",
       "0   EZDEZARIO                                   Sneakers For Men  ₹499\n",
       "1          TR                                   Sneakers For Men  ₹399\n",
       "2    RapidBox                                   Sneakers For Men  ₹610\n",
       "3    Magnolia                                   Sneakers For Men  ₹419\n",
       "4      Labbin                                   Sneakers For Men  ₹499\n",
       "..        ...                                                ...   ...\n",
       "95   HOTSTYLE                    Serve Pro Lite Sneakers For Men  ₹292\n",
       "96     Layasa   Boomerang Stylish & Comfortable Sneakers For Men  ₹399\n",
       "97      Echor  Original Luxury Branded Fashionable Men's Casu...  ₹594\n",
       "98  Deals4you             Fashion Sneaker Shoes Sneakers For Men  ₹345\n",
       "99      Krors                                   Sneakers For Men  ₹499\n",
       "\n",
       "[100 rows x 3 columns]"
      ]
     },
     "execution_count": 71,
     "metadata": {},
     "output_type": "execute_result"
    }
   ],
   "source": [
    "df=pd.DataFrame({'brand':brands,'description':desc,'price':p})\n",
    "df"
   ]
  },
  {
   "cell_type": "markdown",
   "id": "90be83a7",
   "metadata": {},
   "source": [
    "#### Q7"
   ]
  },
  {
   "cell_type": "code",
   "execution_count": 72,
   "id": "5fe9d4c8",
   "metadata": {},
   "outputs": [],
   "source": [
    "#connecting to driver\n",
    "driver=webdriver.Chrome(r\"C:\\Users\\JOHN TOJO\\Downloads\\chromedriver_win32\\chromedriver.exe\")"
   ]
  },
  {
   "cell_type": "code",
   "execution_count": 73,
   "id": "be576315",
   "metadata": {},
   "outputs": [],
   "source": [
    "#connecting to webpage\n",
    "driver.get('https://www.myntra.com/shoes')"
   ]
  },
  {
   "cell_type": "code",
   "execution_count": 74,
   "id": "cf5bf716",
   "metadata": {},
   "outputs": [],
   "source": [
    "#filter data according to the required price\n",
    "filter_p=driver.find_element(By.XPATH,'/html/body/div[2]/div/div[1]/main/div[3]/div[1]/section/div/div[5]/ul/li[2]/label')\n",
    "filter_p.click()"
   ]
  },
  {
   "cell_type": "code",
   "execution_count": 75,
   "id": "65b80211",
   "metadata": {},
   "outputs": [],
   "source": [
    "#filter data according to the required color\n",
    "filter_c=driver.find_element(By.XPATH,'/html/body/div[2]/div/div[1]/main/div[3]/div[1]/section/div/div[6]/ul/li[1]/label')\n",
    "filter_c.click()"
   ]
  },
  {
   "cell_type": "code",
   "execution_count": 76,
   "id": "f0056504",
   "metadata": {},
   "outputs": [],
   "source": [
    "#initializing empty list to store the data necessary\n",
    "brand=[]         #stores Brand\n",
    "description=[]   #stores Product Description\n",
    "price=[]         #stores Price"
   ]
  },
  {
   "cell_type": "code",
   "execution_count": 77,
   "id": "2640c57b",
   "metadata": {},
   "outputs": [],
   "source": [
    "start=0\n",
    "end=3\n",
    "for page in range(start,end):\n",
    "    \n",
    "    brand_tag=driver.find_elements(By.XPATH,'//h3[@class=\"product-brand\"]')\n",
    "    for i in brand_tag[0:40]:\n",
    "        brand.append(i.text)\n",
    "        \n",
    "    description_tag=driver.find_elements(By.XPATH,'//h4[@class=\"product-product\"]')\n",
    "    for i in description_tag[0:40]:\n",
    "        description.append(i.text)    \n",
    "    \n",
    "    price_tag=driver.find_elements(By.XPATH,'//div[@class=\"product-price\"]')\n",
    "    for i in price_tag[0:40]:\n",
    "        price.append(i.text)\n",
    "    \n",
    "    next_button=driver.find_element(By.XPATH,'//li[@class=\"pagination-next\"]')\n",
    "    next_button.click()\n",
    "    time.sleep(3)  \n"
   ]
  },
  {
   "cell_type": "code",
   "execution_count": 79,
   "id": "842583f8",
   "metadata": {},
   "outputs": [
    {
     "name": "stdout",
     "output_type": "stream",
     "text": [
      "120 120 120\n"
     ]
    }
   ],
   "source": [
    "print(len(brand),len(description),len(price))"
   ]
  },
  {
   "cell_type": "code",
   "execution_count": 80,
   "id": "47710337",
   "metadata": {},
   "outputs": [
    {
     "data": {
      "text/plain": [
       "['Rs. 8295',\n",
       " 'Rs. 13295Rs. 13995(5% OFF)',\n",
       " 'Rs. 8295',\n",
       " 'Rs. 7649Rs. 8999(15% OFF)',\n",
       " 'Rs. 10999',\n",
       " 'Rs. 11049Rs. 12999(15% OFF)',\n",
       " 'Rs. 12795',\n",
       " 'Rs. 9099Rs. 12999(30% OFF)',\n",
       " 'Rs. 13995',\n",
       " 'Rs. 7999Rs. 9999(20% OFF)',\n",
       " 'Rs. 11999Rs. 14999(20% OFF)',\n",
       " 'Rs. 12999',\n",
       " 'Rs. 7199Rs. 8999(20% OFF)',\n",
       " 'Rs. 9349Rs. 10999(15% OFF)',\n",
       " 'Rs. 8355Rs. 8795(5% OFF)',\n",
       " 'Rs. 7495',\n",
       " 'Rs. 8195',\n",
       " 'Rs. 8999',\n",
       " 'Rs. 7499',\n",
       " 'Rs. 8249Rs. 10999(25% OFF)',\n",
       " 'Rs. 7649Rs. 8999(15% OFF)',\n",
       " 'Rs. 8499Rs. 9999(15% OFF)',\n",
       " 'Rs. 9999',\n",
       " 'Rs. 9210Rs. 9695(5% OFF)',\n",
       " 'Rs. 7999',\n",
       " 'Rs. 7649Rs. 8999(15% OFF)',\n",
       " 'Rs. 8450Rs. 8895(5% OFF)',\n",
       " 'Rs. 9599Rs. 11999(20% OFF)',\n",
       " 'Rs. 8005Rs. 8895(10% OFF)',\n",
       " 'Rs. 7999',\n",
       " 'Rs. 7599',\n",
       " 'Rs. 8999',\n",
       " 'Rs. 7999',\n",
       " 'Rs. 7880Rs. 8295(5% OFF)',\n",
       " 'Rs. 10499Rs. 14999(30% OFF)',\n",
       " 'Rs. 7199Rs. 11999(40% OFF)',\n",
       " 'Rs. 8499',\n",
       " 'Rs. 8599',\n",
       " 'Rs. 7999',\n",
       " 'Rs. 8299',\n",
       " 'Rs. 8299',\n",
       " 'Rs. 7499Rs. 9999(25% OFF)',\n",
       " 'Rs. 9999',\n",
       " 'Rs. 10345Rs. 11495(10% OFF)',\n",
       " 'Rs. 10999',\n",
       " 'Rs. 13205Rs. 13900(5% OFF)',\n",
       " 'Rs. 7499',\n",
       " 'Rs. 9975Rs. 10500(5% OFF)',\n",
       " 'Rs. 12999',\n",
       " 'Rs. 8499Rs. 9999(15% OFF)',\n",
       " 'Rs. 7499',\n",
       " 'Rs. 12999',\n",
       " 'Rs. 8999Rs. 11999(25% OFF)',\n",
       " 'Rs. 10990',\n",
       " 'Rs. 10925Rs. 11500(5% OFF)',\n",
       " 'Rs. 10990',\n",
       " 'Rs. 8999',\n",
       " 'Rs. 9599Rs. 11999(20% OFF)',\n",
       " 'Rs. 7499',\n",
       " 'Rs. 7999',\n",
       " 'Rs. 10999',\n",
       " 'Rs. 7999',\n",
       " 'Rs. 8490',\n",
       " 'Rs. 9999',\n",
       " 'Rs. 8799',\n",
       " 'Rs. 7499',\n",
       " 'Rs. 11990',\n",
       " 'Rs. 9099Rs. 12999(30% OFF)',\n",
       " 'Rs. 7980Rs. 8400(5% OFF)',\n",
       " 'Rs. 7999',\n",
       " 'Rs. 9810Rs. 10900(10% OFF)',\n",
       " 'Rs. 9999',\n",
       " 'Rs. 9990',\n",
       " 'Rs. 8999',\n",
       " 'Rs. 8075Rs. 9500(15% OFF)',\n",
       " 'Rs. 7490',\n",
       " 'Rs. 7199Rs. 7999(10% OFF)',\n",
       " 'Rs. 7299',\n",
       " 'Rs. 8799Rs. 10999(20% OFF)',\n",
       " 'Rs. 9999',\n",
       " 'Rs. 7649Rs. 8999(15% OFF)',\n",
       " 'Rs. 8490',\n",
       " 'Rs. 12999',\n",
       " 'Rs. 9999',\n",
       " 'Rs. 7499',\n",
       " 'Rs. 11192Rs. 13990(20% OFF)',\n",
       " 'Rs. 8455Rs. 8900(5% OFF)',\n",
       " 'Rs. 7490',\n",
       " 'Rs. 7499',\n",
       " 'Rs. 8249Rs. 10999(25% OFF)',\n",
       " 'Rs. 13999',\n",
       " 'Rs. 9999',\n",
       " 'Rs. 8990',\n",
       " 'Rs. 9990',\n",
       " 'Rs. 8990',\n",
       " 'Rs. 7990',\n",
       " 'Rs. 9990',\n",
       " 'Rs. 9990',\n",
       " 'Rs. 9990',\n",
       " 'Rs. 9990',\n",
       " 'Rs. 9990',\n",
       " 'Rs. 9999',\n",
       " 'Rs. 11990',\n",
       " 'Rs. 10400',\n",
       " 'Rs. 10990',\n",
       " 'Rs. 11999',\n",
       " 'Rs. 12999',\n",
       " 'Rs. 11999',\n",
       " 'Rs. 7999',\n",
       " 'Rs. 8505Rs. 10500(19% OFF)',\n",
       " 'Rs. 13990',\n",
       " 'Rs. 7500',\n",
       " 'Rs. 12990',\n",
       " 'Rs. 8490',\n",
       " 'Rs. 8999',\n",
       " 'Rs. 13999',\n",
       " 'Rs. 9999',\n",
       " 'Rs. 9025Rs. 9500(5% OFF)',\n",
       " 'Rs. 8999',\n",
       " 'Rs. 9025Rs. 9500(5% OFF)']"
      ]
     },
     "execution_count": 80,
     "metadata": {},
     "output_type": "execute_result"
    }
   ],
   "source": [
    "price"
   ]
  },
  {
   "cell_type": "code",
   "execution_count": 81,
   "id": "076b2c0f",
   "metadata": {},
   "outputs": [
    {
     "data": {
      "text/plain": [
       "[' 8295',\n",
       " ' 13295',\n",
       " ' 8295',\n",
       " ' 7649',\n",
       " ' 10999',\n",
       " ' 11049',\n",
       " ' 12795',\n",
       " ' 9099',\n",
       " ' 13995',\n",
       " ' 7999',\n",
       " ' 11999',\n",
       " ' 12999',\n",
       " ' 7199',\n",
       " ' 9349',\n",
       " ' 8355',\n",
       " ' 7495',\n",
       " ' 8195',\n",
       " ' 8999',\n",
       " ' 7499',\n",
       " ' 8249',\n",
       " ' 7649',\n",
       " ' 8499',\n",
       " ' 9999',\n",
       " ' 9210',\n",
       " ' 7999',\n",
       " ' 7649',\n",
       " ' 8450',\n",
       " ' 9599',\n",
       " ' 8005',\n",
       " ' 7999',\n",
       " ' 7599',\n",
       " ' 8999',\n",
       " ' 7999',\n",
       " ' 7880',\n",
       " ' 10499',\n",
       " ' 7199',\n",
       " ' 8499',\n",
       " ' 8599',\n",
       " ' 7999',\n",
       " ' 8299',\n",
       " ' 8299',\n",
       " ' 7499',\n",
       " ' 9999',\n",
       " ' 10345',\n",
       " ' 10999',\n",
       " ' 13205',\n",
       " ' 7499',\n",
       " ' 9975',\n",
       " ' 12999',\n",
       " ' 8499',\n",
       " ' 7499',\n",
       " ' 12999',\n",
       " ' 8999',\n",
       " ' 10990',\n",
       " ' 10925',\n",
       " ' 10990',\n",
       " ' 8999',\n",
       " ' 9599',\n",
       " ' 7499',\n",
       " ' 7999',\n",
       " ' 10999',\n",
       " ' 7999',\n",
       " ' 8490',\n",
       " ' 9999',\n",
       " ' 8799',\n",
       " ' 7499',\n",
       " ' 11990',\n",
       " ' 9099',\n",
       " ' 7980',\n",
       " ' 7999',\n",
       " ' 9810',\n",
       " ' 9999',\n",
       " ' 9990',\n",
       " ' 8999',\n",
       " ' 8075',\n",
       " ' 7490',\n",
       " ' 7199',\n",
       " ' 7299',\n",
       " ' 8799',\n",
       " ' 9999',\n",
       " ' 7649',\n",
       " ' 8490',\n",
       " ' 12999',\n",
       " ' 9999',\n",
       " ' 7499',\n",
       " ' 11192',\n",
       " ' 8455',\n",
       " ' 7490',\n",
       " ' 7499',\n",
       " ' 8249',\n",
       " ' 13999',\n",
       " ' 9999',\n",
       " ' 8990',\n",
       " ' 9990',\n",
       " ' 8990',\n",
       " ' 7990',\n",
       " ' 9990',\n",
       " ' 9990',\n",
       " ' 9990',\n",
       " ' 9990',\n",
       " ' 9990',\n",
       " ' 9999',\n",
       " ' 11990',\n",
       " ' 10400',\n",
       " ' 10990',\n",
       " ' 11999',\n",
       " ' 12999',\n",
       " ' 11999',\n",
       " ' 7999',\n",
       " ' 8505',\n",
       " ' 13990',\n",
       " ' 7500',\n",
       " ' 12990',\n",
       " ' 8490',\n",
       " ' 8999',\n",
       " ' 13999',\n",
       " ' 9999',\n",
       " ' 9025',\n",
       " ' 8999',\n",
       " ' 9025']"
      ]
     },
     "execution_count": 81,
     "metadata": {},
     "output_type": "execute_result"
    }
   ],
   "source": [
    "# need to remove the unnecessary data \n",
    "a=price\n",
    "c=[]\n",
    "for i in a:\n",
    "    b=i.split('.')[1].split('R')[0]\n",
    "    c.append(b)\n",
    "\n",
    "c    "
   ]
  },
  {
   "cell_type": "code",
   "execution_count": 82,
   "id": "179f1b0b",
   "metadata": {},
   "outputs": [
    {
     "data": {
      "text/html": [
       "<div>\n",
       "<style scoped>\n",
       "    .dataframe tbody tr th:only-of-type {\n",
       "        vertical-align: middle;\n",
       "    }\n",
       "\n",
       "    .dataframe tbody tr th {\n",
       "        vertical-align: top;\n",
       "    }\n",
       "\n",
       "    .dataframe thead th {\n",
       "        text-align: right;\n",
       "    }\n",
       "</style>\n",
       "<table border=\"1\" class=\"dataframe\">\n",
       "  <thead>\n",
       "    <tr style=\"text-align: right;\">\n",
       "      <th></th>\n",
       "      <th>brand</th>\n",
       "      <th>description</th>\n",
       "      <th>price</th>\n",
       "    </tr>\n",
       "  </thead>\n",
       "  <tbody>\n",
       "    <tr>\n",
       "      <th>0</th>\n",
       "      <td>Nike</td>\n",
       "      <td>Men ZOOM WINFLO8 Running Shoes</td>\n",
       "      <td>8295</td>\n",
       "    </tr>\n",
       "    <tr>\n",
       "      <th>1</th>\n",
       "      <td>Nike</td>\n",
       "      <td>Men React Infinity 3 Running</td>\n",
       "      <td>13295</td>\n",
       "    </tr>\n",
       "    <tr>\n",
       "      <th>2</th>\n",
       "      <td>Nike</td>\n",
       "      <td>Lebron Witness VI Basketball</td>\n",
       "      <td>8295</td>\n",
       "    </tr>\n",
       "    <tr>\n",
       "      <th>3</th>\n",
       "      <td>Hush Puppies</td>\n",
       "      <td>Men Solid Leather Formal Slip-Ons</td>\n",
       "      <td>7649</td>\n",
       "    </tr>\n",
       "    <tr>\n",
       "      <th>4</th>\n",
       "      <td>PUMA Motorsport</td>\n",
       "      <td>Mercedes AMG Petronas F1 Shoes</td>\n",
       "      <td>10999</td>\n",
       "    </tr>\n",
       "    <tr>\n",
       "      <th>...</th>\n",
       "      <td>...</td>\n",
       "      <td>...</td>\n",
       "      <td>...</td>\n",
       "    </tr>\n",
       "    <tr>\n",
       "      <th>115</th>\n",
       "      <td>ECCO</td>\n",
       "      <td>Women Textured Leather Sneakers</td>\n",
       "      <td>13999</td>\n",
       "    </tr>\n",
       "    <tr>\n",
       "      <th>116</th>\n",
       "      <td>ECCO</td>\n",
       "      <td>Women Bella Leather Sneakers</td>\n",
       "      <td>9999</td>\n",
       "    </tr>\n",
       "    <tr>\n",
       "      <th>117</th>\n",
       "      <td>Saint G</td>\n",
       "      <td>Leather Block Heel Mules</td>\n",
       "      <td>9025</td>\n",
       "    </tr>\n",
       "    <tr>\n",
       "      <th>118</th>\n",
       "      <td>ECCO</td>\n",
       "      <td>Women Ballerinas Flats</td>\n",
       "      <td>8999</td>\n",
       "    </tr>\n",
       "    <tr>\n",
       "      <th>119</th>\n",
       "      <td>Saint G</td>\n",
       "      <td>Women Block Mules</td>\n",
       "      <td>9025</td>\n",
       "    </tr>\n",
       "  </tbody>\n",
       "</table>\n",
       "<p>120 rows × 3 columns</p>\n",
       "</div>"
      ],
      "text/plain": [
       "               brand                        description   price\n",
       "0               Nike     Men ZOOM WINFLO8 Running Shoes    8295\n",
       "1               Nike       Men React Infinity 3 Running   13295\n",
       "2               Nike       Lebron Witness VI Basketball    8295\n",
       "3       Hush Puppies  Men Solid Leather Formal Slip-Ons    7649\n",
       "4    PUMA Motorsport     Mercedes AMG Petronas F1 Shoes   10999\n",
       "..               ...                                ...     ...\n",
       "115             ECCO    Women Textured Leather Sneakers   13999\n",
       "116             ECCO       Women Bella Leather Sneakers    9999\n",
       "117          Saint G           Leather Block Heel Mules    9025\n",
       "118             ECCO             Women Ballerinas Flats    8999\n",
       "119          Saint G                  Women Block Mules    9025\n",
       "\n",
       "[120 rows x 3 columns]"
      ]
     },
     "execution_count": 82,
     "metadata": {},
     "output_type": "execute_result"
    }
   ],
   "source": [
    "df=pd.DataFrame({'brand':brand,'description':description,'price':c})\n",
    "df"
   ]
  },
  {
   "cell_type": "markdown",
   "id": "d7e26810",
   "metadata": {},
   "source": [
    "#### Q8"
   ]
  },
  {
   "cell_type": "code",
   "execution_count": 83,
   "id": "b0ced07f",
   "metadata": {},
   "outputs": [],
   "source": [
    "#connecting to driver\n",
    "driver=webdriver.Chrome(r\"C:\\Users\\JOHN TOJO\\Downloads\\chromedriver_win32\\chromedriver.exe\")"
   ]
  },
  {
   "cell_type": "code",
   "execution_count": 84,
   "id": "f208feb8",
   "metadata": {},
   "outputs": [],
   "source": [
    "#connecting to webpage\n",
    "driver.get('https://www.amazon.in/')"
   ]
  },
  {
   "cell_type": "code",
   "execution_count": 85,
   "id": "17b9979c",
   "metadata": {},
   "outputs": [],
   "source": [
    "#entering the item required as required in the given problem\n",
    "item=driver.find_element(By.XPATH,'/html/body/div[1]/header/div/div[1]/div[2]/div/form/div[2]/div[1]/input')\n",
    "item.click()\n",
    "item.send_keys('Laptop')"
   ]
  },
  {
   "cell_type": "code",
   "execution_count": 86,
   "id": "f7221494",
   "metadata": {},
   "outputs": [],
   "source": [
    "#need to click on search button to proceed to the filtered page \n",
    "search=driver.find_element(By.XPATH,'/html/body/div[1]/header/div/div[1]/div[2]/div/form/div[3]/div')\n",
    "search.click()"
   ]
  },
  {
   "cell_type": "code",
   "execution_count": 87,
   "id": "074b311d",
   "metadata": {},
   "outputs": [],
   "source": [
    "#filter data according to the required cpu\n",
    "filter_cpu=driver.find_element(By.XPATH,'/html/body/div[1]/div[2]/div[1]/div[2]/div/div[3]/span/div[1]/div/div/div[5]/ul[4]/li[12]/span/a/div/label/i')\n",
    "filter_cpu.click()"
   ]
  },
  {
   "cell_type": "code",
   "execution_count": 88,
   "id": "75caca12",
   "metadata": {},
   "outputs": [],
   "source": [
    "#initializing empty list to store the data necessary\n",
    "title=[]         #stores title\n",
    "ratings=[]       #stores Ratings\n",
    "price=[]         #stores Price"
   ]
  },
  {
   "cell_type": "code",
   "execution_count": 89,
   "id": "fe708ec5",
   "metadata": {},
   "outputs": [],
   "source": [
    "#scrapping the required details in the given problem, here only 10 data are needed hence in the loop [0:10] is used \n",
    "\n",
    "title_tag=driver.find_elements(By.XPATH,'//span[@class=\"a-size-medium a-color-base a-text-normal\"]')\n",
    "for i in title_tag[0:10]:\n",
    "    title.append(i.text)\n",
    "\n",
    "ratings_tag=driver.find_elements(By.XPATH,'//a[@class=\"a-popover-trigger a-declarative\"]')\n",
    "for i in ratings_tag[0:10]:\n",
    "    ratings.append(i.text)    \n",
    "\n",
    "    price_tag=driver.find_elements(By.XPATH,'//span[@class=\"a-price-whole\"]')\n",
    "for i in price_tag[0:10]:\n",
    "    price.append(i.text)\n",
    "        "
   ]
  },
  {
   "cell_type": "code",
   "execution_count": 90,
   "id": "168f7265",
   "metadata": {},
   "outputs": [
    {
     "name": "stdout",
     "output_type": "stream",
     "text": [
      "10 10 10\n"
     ]
    }
   ],
   "source": [
    "print(len(title),len(ratings),len(price))"
   ]
  },
  {
   "cell_type": "code",
   "execution_count": 91,
   "id": "2c386428",
   "metadata": {},
   "outputs": [
    {
     "data": {
      "text/html": [
       "<div>\n",
       "<style scoped>\n",
       "    .dataframe tbody tr th:only-of-type {\n",
       "        vertical-align: middle;\n",
       "    }\n",
       "\n",
       "    .dataframe tbody tr th {\n",
       "        vertical-align: top;\n",
       "    }\n",
       "\n",
       "    .dataframe thead th {\n",
       "        text-align: right;\n",
       "    }\n",
       "</style>\n",
       "<table border=\"1\" class=\"dataframe\">\n",
       "  <thead>\n",
       "    <tr style=\"text-align: right;\">\n",
       "      <th></th>\n",
       "      <th>Title</th>\n",
       "      <th>Ratings</th>\n",
       "      <th>Price</th>\n",
       "    </tr>\n",
       "  </thead>\n",
       "  <tbody>\n",
       "    <tr>\n",
       "      <th>0</th>\n",
       "      <td>Acer Extensa 15 Thin &amp; Light Intel Processor P...</td>\n",
       "      <td></td>\n",
       "      <td>26,990</td>\n",
       "    </tr>\n",
       "    <tr>\n",
       "      <th>1</th>\n",
       "      <td>Acer Travelmate Intel® Pentium® Gold 7505 Proc...</td>\n",
       "      <td></td>\n",
       "      <td>24,490</td>\n",
       "    </tr>\n",
       "    <tr>\n",
       "      <th>2</th>\n",
       "      <td>Dell New Inspiron 3521 Laptop, Intel PQC-N5030...</td>\n",
       "      <td></td>\n",
       "      <td>31,990</td>\n",
       "    </tr>\n",
       "    <tr>\n",
       "      <th>3</th>\n",
       "      <td>Acer Aspire 3 Laptop (Made in India) A314-35 3...</td>\n",
       "      <td></td>\n",
       "      <td>26,490</td>\n",
       "    </tr>\n",
       "    <tr>\n",
       "      <th>4</th>\n",
       "      <td>Dell Inspiron 3502 15.6 inches(39cm) HD Displa...</td>\n",
       "      <td></td>\n",
       "      <td>34,800</td>\n",
       "    </tr>\n",
       "    <tr>\n",
       "      <th>5</th>\n",
       "      <td>ASUS Windows 11 Home VivoBook 13 Slate OLED, I...</td>\n",
       "      <td></td>\n",
       "      <td>52,000</td>\n",
       "    </tr>\n",
       "    <tr>\n",
       "      <th>6</th>\n",
       "      <td>Dell Inspiron 3501 15.6 inches(39.6cm) FHD Dis...</td>\n",
       "      <td></td>\n",
       "      <td>49,990</td>\n",
       "    </tr>\n",
       "    <tr>\n",
       "      <th>7</th>\n",
       "      <td>Dell New 15 PQC-N5030 Intel Inspiron 3510 15.6...</td>\n",
       "      <td></td>\n",
       "      <td>35,500</td>\n",
       "    </tr>\n",
       "    <tr>\n",
       "      <th>8</th>\n",
       "      <td>Hp 14S-Intel Pentium Silver N6000- 8Gb Ram/256...</td>\n",
       "      <td></td>\n",
       "      <td>30,499</td>\n",
       "    </tr>\n",
       "    <tr>\n",
       "      <th>9</th>\n",
       "      <td>HP 14 Intel Pentium N6000 14-inch(35.6 cm) Lap...</td>\n",
       "      <td></td>\n",
       "      <td>34,750</td>\n",
       "    </tr>\n",
       "  </tbody>\n",
       "</table>\n",
       "</div>"
      ],
      "text/plain": [
       "                                               Title Ratings   Price\n",
       "0  Acer Extensa 15 Thin & Light Intel Processor P...          26,990\n",
       "1  Acer Travelmate Intel® Pentium® Gold 7505 Proc...          24,490\n",
       "2  Dell New Inspiron 3521 Laptop, Intel PQC-N5030...          31,990\n",
       "3  Acer Aspire 3 Laptop (Made in India) A314-35 3...          26,490\n",
       "4  Dell Inspiron 3502 15.6 inches(39cm) HD Displa...          34,800\n",
       "5  ASUS Windows 11 Home VivoBook 13 Slate OLED, I...          52,000\n",
       "6  Dell Inspiron 3501 15.6 inches(39.6cm) FHD Dis...          49,990\n",
       "7  Dell New 15 PQC-N5030 Intel Inspiron 3510 15.6...          35,500\n",
       "8  Hp 14S-Intel Pentium Silver N6000- 8Gb Ram/256...          30,499\n",
       "9  HP 14 Intel Pentium N6000 14-inch(35.6 cm) Lap...          34,750"
      ]
     },
     "execution_count": 91,
     "metadata": {},
     "output_type": "execute_result"
    }
   ],
   "source": [
    "df=pd.DataFrame({'Title':title,'Ratings':ratings,'Price':price})\n",
    "df"
   ]
  },
  {
   "cell_type": "markdown",
   "id": "de0898ea",
   "metadata": {},
   "source": [
    "#### Q9"
   ]
  },
  {
   "cell_type": "code",
   "execution_count": 92,
   "id": "a1538131",
   "metadata": {},
   "outputs": [],
   "source": [
    "#connecting to driver\n",
    "driver=webdriver.Chrome(r\"C:\\Users\\JOHN TOJO\\Downloads\\chromedriver_win32\\chromedriver.exe\")"
   ]
  },
  {
   "cell_type": "code",
   "execution_count": 93,
   "id": "5bb48a7e",
   "metadata": {},
   "outputs": [],
   "source": [
    "#connecting to webpage\n",
    "driver.get('https://www.ambitionbox.com/')"
   ]
  },
  {
   "cell_type": "code",
   "execution_count": 95,
   "id": "98de4aa9",
   "metadata": {},
   "outputs": [],
   "source": [
    "#need to close the pop up \n",
    "close=driver.find_element(By.XPATH,'/html/body/section[10]/div[1]/div[2]/a/i')\n",
    "close.click()"
   ]
  },
  {
   "cell_type": "code",
   "execution_count": 96,
   "id": "907df8b2",
   "metadata": {},
   "outputs": [],
   "source": [
    "#need to select job \n",
    "job=driver.find_element(By.XPATH,'/html/body/div[1]/nav[2]/div/ul/li[5]/a')\n",
    "job.click()"
   ]
  },
  {
   "cell_type": "code",
   "execution_count": 97,
   "id": "d8dd7090",
   "metadata": {},
   "outputs": [],
   "source": [
    "#entering the item required as required in the given problem\n",
    "item=driver.find_element(By.XPATH,'/html/body/div/div/div/div[2]/div[1]/div[1]/div/div/div/div/span/input')\n",
    "item.click()\n",
    "item.send_keys('Data Scientist')"
   ]
  },
  {
   "cell_type": "code",
   "execution_count": 98,
   "id": "c0313036",
   "metadata": {},
   "outputs": [],
   "source": [
    "#need to click on search \n",
    "job=driver.find_element(By.XPATH,'/html/body/div/div/div/div[2]/div[1]/div[1]/div/div/div/button')\n",
    "job.click()"
   ]
  },
  {
   "cell_type": "code",
   "execution_count": 99,
   "id": "27eecd14",
   "metadata": {},
   "outputs": [],
   "source": [
    "#need to click on location to filter \n",
    "filter_loc=driver.find_element(By.XPATH,'/html/body/div/div/div/div[2]/div[1]/div[2]/div[1]/div/div/div/div[2]/div[1]')\n",
    "filter_loc.click()"
   ]
  },
  {
   "cell_type": "code",
   "execution_count": 100,
   "id": "38550e7c",
   "metadata": {},
   "outputs": [],
   "source": [
    "#entering the job location required in the given problem\n",
    "item=driver.find_element(By.XPATH,'/html/body/div/div/div/div[2]/div[1]/div[2]/div[1]/div/div/div/div[2]/div[2]/div/div[2]/input')\n",
    "item.click()\n",
    "item.send_keys('Noida')"
   ]
  },
  {
   "cell_type": "code",
   "execution_count": 101,
   "id": "f3eba9ea",
   "metadata": {},
   "outputs": [],
   "source": [
    "#need to click on Noida\n",
    "noida=driver.find_element(By.XPATH,'/html/body/div/div/div/div[2]/div[1]/div[2]/div[1]/div/div/div/div[2]/div[2]/div/div[3]/div[1]/div[1]/div/label')\n",
    "noida.click()"
   ]
  },
  {
   "cell_type": "code",
   "execution_count": 105,
   "id": "3402381f",
   "metadata": {},
   "outputs": [],
   "source": [
    "#initializing empty list to store the data necessary\n",
    "company_name=[] #stores company name\n",
    "ratings=[]      #stores Ratings\n",
    "post=[]         #stores No. of days ago when job was posted"
   ]
  },
  {
   "cell_type": "code",
   "execution_count": 106,
   "id": "17b4601d",
   "metadata": {},
   "outputs": [],
   "source": [
    "#scrapping the required details in the given problem, here only 10 data are needed hence in the loop [0:10] is used \n",
    "\n",
    "company_name_tag=driver.find_elements(By.XPATH,'//p[@class=\"company body-medium\"]')\n",
    "for i in company_name_tag[0:10]:\n",
    "    company_name.append(i.text)\n",
    "\n",
    "ratings_tag=driver.find_elements(By.XPATH,'//span[@class=\"body-small\"]')\n",
    "for i in ratings_tag[0:10]:\n",
    "    ratings.append(i.text)    \n",
    "\n",
    "post_tag=driver.find_elements(By.XPATH,'//span[@class=\"body-small-l\"]')\n",
    "for i in post_tag[0:20]:\n",
    "    post.append(i.text)\n",
    "        "
   ]
  },
  {
   "cell_type": "code",
   "execution_count": 107,
   "id": "9cb8a7e9",
   "metadata": {},
   "outputs": [
    {
     "data": {
      "text/plain": [
       "['3hr ago',\n",
       " 'via naukri.com',\n",
       " '27d ago',\n",
       " 'via naukri.com',\n",
       " '20d ago',\n",
       " 'via naukri.com',\n",
       " '22d ago',\n",
       " 'via iimjobs.com',\n",
       " '1mon ago',\n",
       " 'via naukri.com',\n",
       " '30d ago',\n",
       " 'via naukri.com',\n",
       " '5d ago',\n",
       " 'via hirist.com',\n",
       " '1mon ago',\n",
       " 'via naukri.com',\n",
       " '13d ago',\n",
       " 'via naukri.com',\n",
       " '1mon ago',\n",
       " 'via hirist.com']"
      ]
     },
     "execution_count": 107,
     "metadata": {},
     "output_type": "execute_result"
    }
   ],
   "source": [
    "post"
   ]
  },
  {
   "cell_type": "code",
   "execution_count": 108,
   "id": "d4f2c81e",
   "metadata": {},
   "outputs": [
    {
     "data": {
      "text/plain": [
       "['3hr ago',\n",
       " '27d ago',\n",
       " '20d ago',\n",
       " '22d ago',\n",
       " '1mon ago',\n",
       " '30d ago',\n",
       " '5d ago',\n",
       " '1mon ago',\n",
       " '13d ago',\n",
       " '1mon ago']"
      ]
     },
     "execution_count": 108,
     "metadata": {},
     "output_type": "execute_result"
    }
   ],
   "source": [
    "# here post returns two details (a) the date it was posted (b) the website where it was posted \n",
    "#so manipulating post to save data when it was posted in variable posts\n",
    "posts=[]\n",
    "for i in range(0,20):\n",
    "    if (i%2==0):\n",
    "        posts.append(post[i])\n",
    "    else:\n",
    "        continue\n",
    "posts        "
   ]
  },
  {
   "cell_type": "code",
   "execution_count": 109,
   "id": "943b535b",
   "metadata": {},
   "outputs": [
    {
     "name": "stdout",
     "output_type": "stream",
     "text": [
      "10 10 10\n"
     ]
    }
   ],
   "source": [
    "print(len(company_name),len(posts),len(ratings))"
   ]
  },
  {
   "cell_type": "code",
   "execution_count": 110,
   "id": "b3138a6e",
   "metadata": {},
   "outputs": [
    {
     "data": {
      "text/html": [
       "<div>\n",
       "<style scoped>\n",
       "    .dataframe tbody tr th:only-of-type {\n",
       "        vertical-align: middle;\n",
       "    }\n",
       "\n",
       "    .dataframe tbody tr th {\n",
       "        vertical-align: top;\n",
       "    }\n",
       "\n",
       "    .dataframe thead th {\n",
       "        text-align: right;\n",
       "    }\n",
       "</style>\n",
       "<table border=\"1\" class=\"dataframe\">\n",
       "  <thead>\n",
       "    <tr style=\"text-align: right;\">\n",
       "      <th></th>\n",
       "      <th>company name</th>\n",
       "      <th>No. of days ago when job was posted</th>\n",
       "      <th>Rating of the company</th>\n",
       "    </tr>\n",
       "  </thead>\n",
       "  <tbody>\n",
       "    <tr>\n",
       "      <th>0</th>\n",
       "      <td>Optum Global Solutions (India) Private Limited</td>\n",
       "      <td>3hr ago</td>\n",
       "      <td>4.1</td>\n",
       "    </tr>\n",
       "    <tr>\n",
       "      <th>1</th>\n",
       "      <td>CBRE South Asia Pvt Ltd</td>\n",
       "      <td>27d ago</td>\n",
       "      <td>4.3</td>\n",
       "    </tr>\n",
       "    <tr>\n",
       "      <th>2</th>\n",
       "      <td>GENPACT India Private Limited</td>\n",
       "      <td>20d ago</td>\n",
       "      <td>4.0</td>\n",
       "    </tr>\n",
       "    <tr>\n",
       "      <th>3</th>\n",
       "      <td>Genpact</td>\n",
       "      <td>22d ago</td>\n",
       "      <td>4.0</td>\n",
       "    </tr>\n",
       "    <tr>\n",
       "      <th>4</th>\n",
       "      <td>Ericsson India Global Services Pvt. Ltd.</td>\n",
       "      <td>1mon ago</td>\n",
       "      <td>4.3</td>\n",
       "    </tr>\n",
       "    <tr>\n",
       "      <th>5</th>\n",
       "      <td>GENPACT India Private Limited</td>\n",
       "      <td>30d ago</td>\n",
       "      <td>4.0</td>\n",
       "    </tr>\n",
       "    <tr>\n",
       "      <th>6</th>\n",
       "      <td>Dew Solutions Pvt. Ltd.</td>\n",
       "      <td>5d ago</td>\n",
       "      <td>4.3</td>\n",
       "    </tr>\n",
       "    <tr>\n",
       "      <th>7</th>\n",
       "      <td>Ericsson India Global Services Pvt. Ltd.</td>\n",
       "      <td>1mon ago</td>\n",
       "      <td>4.3</td>\n",
       "    </tr>\n",
       "    <tr>\n",
       "      <th>8</th>\n",
       "      <td>One97 Communications Limited</td>\n",
       "      <td>13d ago</td>\n",
       "      <td>3.8</td>\n",
       "    </tr>\n",
       "    <tr>\n",
       "      <th>9</th>\n",
       "      <td>EY</td>\n",
       "      <td>1mon ago</td>\n",
       "      <td>3.8</td>\n",
       "    </tr>\n",
       "  </tbody>\n",
       "</table>\n",
       "</div>"
      ],
      "text/plain": [
       "                                     company name  \\\n",
       "0  Optum Global Solutions (India) Private Limited   \n",
       "1                         CBRE South Asia Pvt Ltd   \n",
       "2                   GENPACT India Private Limited   \n",
       "3                                         Genpact   \n",
       "4        Ericsson India Global Services Pvt. Ltd.   \n",
       "5                   GENPACT India Private Limited   \n",
       "6                         Dew Solutions Pvt. Ltd.   \n",
       "7        Ericsson India Global Services Pvt. Ltd.   \n",
       "8                    One97 Communications Limited   \n",
       "9                                              EY   \n",
       "\n",
       "  No. of days ago when job was posted Rating of the company  \n",
       "0                             3hr ago                   4.1  \n",
       "1                             27d ago                   4.3  \n",
       "2                             20d ago                   4.0  \n",
       "3                             22d ago                   4.0  \n",
       "4                            1mon ago                   4.3  \n",
       "5                             30d ago                   4.0  \n",
       "6                              5d ago                   4.3  \n",
       "7                            1mon ago                   4.3  \n",
       "8                             13d ago                   3.8  \n",
       "9                            1mon ago                   3.8  "
      ]
     },
     "execution_count": 110,
     "metadata": {},
     "output_type": "execute_result"
    }
   ],
   "source": [
    "df=pd.DataFrame({'company name':company_name,'No. of days ago when job was posted':posts,'Rating of the company':ratings})\n",
    "df"
   ]
  },
  {
   "cell_type": "markdown",
   "id": "c1eb3710",
   "metadata": {},
   "source": [
    "#### Q10"
   ]
  },
  {
   "cell_type": "code",
   "execution_count": 111,
   "id": "9b52ce2f",
   "metadata": {},
   "outputs": [],
   "source": [
    "#connecting to driver\n",
    "driver=webdriver.Chrome(r\"C:\\Users\\JOHN TOJO\\Downloads\\chromedriver_win32\\chromedriver.exe\")"
   ]
  },
  {
   "cell_type": "code",
   "execution_count": 112,
   "id": "c50bec62",
   "metadata": {},
   "outputs": [],
   "source": [
    "#connecting to webpage\n",
    "driver.get('https://www.ambitionbox.com/')"
   ]
  },
  {
   "cell_type": "code",
   "execution_count": 113,
   "id": "6ad093cd",
   "metadata": {},
   "outputs": [],
   "source": [
    "#need to close the pop up \n",
    "close=driver.find_element(By.XPATH,'/html/body/section[10]/div[1]/div[2]/a/i')\n",
    "close.click()"
   ]
  },
  {
   "cell_type": "code",
   "execution_count": 114,
   "id": "2929ace8",
   "metadata": {},
   "outputs": [],
   "source": [
    "#need to select salaries \n",
    "job=driver.find_element(By.XPATH,'/html/body/div[1]/nav[2]/div/ul/li[3]')\n",
    "job.click()"
   ]
  },
  {
   "cell_type": "code",
   "execution_count": 115,
   "id": "8562593b",
   "metadata": {},
   "outputs": [],
   "source": [
    "#need to select Browse Salaries\n",
    "job=driver.find_element(By.XPATH,'/html/body/div[1]/nav[2]/div/ul/li[3]/div/ul/li[1]/div')\n",
    "job.click()"
   ]
  },
  {
   "cell_type": "code",
   "execution_count": 116,
   "id": "f4f336d5",
   "metadata": {},
   "outputs": [],
   "source": [
    "#entering the item required as required in the given problem\n",
    "item=driver.find_element(By.XPATH,'/html/body/div/div/div/main/section[1]/div[2]/div[1]/span/input')\n",
    "item.click()\n",
    "item.send_keys('Data Scientist')"
   ]
  },
  {
   "cell_type": "code",
   "execution_count": null,
   "id": "d34c27c5",
   "metadata": {},
   "outputs": [],
   "source": [
    "#need to click on search button to proceed to the filtered page \n",
    "tag=driver.find_element(By.XPATH,'/html/body/div/div/div/main/section[1]/div[2]/div[1]/span/div/div/div[1]/div/div/p')\n",
    "\n",
    "tag.click()\n"
   ]
  },
  {
   "cell_type": "markdown",
   "id": "f5346f64",
   "metadata": {},
   "source": [
    "cannot run this code as there is some problem with the search button "
   ]
  },
  {
   "cell_type": "code",
   "execution_count": null,
   "id": "711742c5",
   "metadata": {},
   "outputs": [],
   "source": []
  }
 ],
 "metadata": {
  "kernelspec": {
   "display_name": "Python 3 (ipykernel)",
   "language": "python",
   "name": "python3"
  },
  "language_info": {
   "codemirror_mode": {
    "name": "ipython",
    "version": 3
   },
   "file_extension": ".py",
   "mimetype": "text/x-python",
   "name": "python",
   "nbconvert_exporter": "python",
   "pygments_lexer": "ipython3",
   "version": "3.9.7"
  }
 },
 "nbformat": 4,
 "nbformat_minor": 5
}
